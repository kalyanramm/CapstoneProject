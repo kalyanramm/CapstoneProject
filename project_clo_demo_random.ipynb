{
 "cells": [
  {
   "cell_type": "code",
   "execution_count": 249,
   "metadata": {},
   "outputs": [],
   "source": [
    "import re\n",
    "import os\n",
    "\n",
    "import pandas as pd\n",
    "import numpy as np\n",
    "import seaborn as sns\n",
    "import matplotlib.pyplot as plt\n",
    "\n",
    "import datetime as dt\n",
    "\n",
    "from sklearn import model_selection\n",
    "\n",
    "from sklearn.metrics import confusion_matrix\n",
    "\n",
    "%matplotlib inline "
   ]
  },
  {
   "cell_type": "markdown",
   "metadata": {},
   "source": [
    "### Constants"
   ]
  },
  {
   "cell_type": "code",
   "execution_count": 250,
   "metadata": {},
   "outputs": [],
   "source": [
    "poolSize = 5000\n",
    "\n",
    "senior_perc_contr = 0.5\n",
    "senior_ann_int = 0.05\n",
    "\n",
    "subordinate_perc_contr = 0.3\n",
    "subordinate_ann_int = 0.1\n",
    "\n",
    "equity_perc_contr = 0.1\n",
    "\n",
    "year = 2014\n",
    "term = 36"
   ]
  },
  {
   "cell_type": "markdown",
   "metadata": {},
   "source": [
    "### Data analysis"
   ]
  },
  {
   "cell_type": "code",
   "execution_count": 251,
   "metadata": {},
   "outputs": [
    {
     "name": "stderr",
     "output_type": "stream",
     "text": [
      "/Users/kmanda/opt/anaconda3/lib/python3.7/site-packages/IPython/core/interactiveshell.py:3063: DtypeWarning: Columns (0,19,49,59,118,129,130,131,134,135,136,139,145,146,147) have mixed types.Specify dtype option on import or set low_memory=False.\n",
      "  interactivity=interactivity, compiler=compiler, result=result)\n"
     ]
    }
   ],
   "source": [
    "# all accepted loans from lendingclub\n",
    "all_accept_df = pd.read_csv('./archive/accepted_2007_to_2018q4.csv')"
   ]
  },
  {
   "cell_type": "code",
   "execution_count": 252,
   "metadata": {},
   "outputs": [
    {
     "data": {
      "text/plain": [
       "array(['Fully Paid', 'Current', 'Charged Off', 'In Grace Period',\n",
       "       'Late (31-120 days)', 'Late (16-30 days)', 'Default', 'Unknown',\n",
       "       'Does not meet the credit policy. Status:Fully Paid',\n",
       "       'Does not meet the credit policy. Status:Charged Off'],\n",
       "      dtype=object)"
      ]
     },
     "execution_count": 252,
     "metadata": {},
     "output_type": "execute_result"
    }
   ],
   "source": [
    "# drop invalid loan_status to 'Unknown'\n",
    "\n",
    "all_accept_df.loc[pd.isnull(all_accept_df['loan_status']),'loan_status'] = 'Unknown'\n",
    "\n",
    "all_accept_df.loan_status.unique()"
   ]
  },
  {
   "cell_type": "code",
   "execution_count": 253,
   "metadata": {
    "scrolled": true
   },
   "outputs": [
    {
     "name": "stderr",
     "output_type": "stream",
     "text": [
      "/Users/kmanda/opt/anaconda3/lib/python3.7/site-packages/ipykernel_launcher.py:5: SettingWithCopyWarning: \n",
      "A value is trying to be set on a copy of a slice from a DataFrame\n",
      "\n",
      "See the caveats in the documentation: https://pandas.pydata.org/pandas-docs/stable/user_guide/indexing.html#returning-a-view-versus-a-copy\n",
      "  \"\"\"\n",
      "/Users/kmanda/opt/anaconda3/lib/python3.7/site-packages/ipykernel_launcher.py:7: SettingWithCopyWarning: \n",
      "A value is trying to be set on a copy of a slice from a DataFrame\n",
      "\n",
      "See the caveats in the documentation: https://pandas.pydata.org/pandas-docs/stable/user_guide/indexing.html#returning-a-view-versus-a-copy\n",
      "  import sys\n"
     ]
    }
   ],
   "source": [
    "loan_status = all_accept_df['loan_status']\n",
    "\n",
    "loan_status[(loan_status=='Fully Paid') | (loan_status=='Current') |\n",
    "            (loan_status=='Does not meet the credit policy. Status:Fully Paid') |\n",
    "            (loan_status=='In Grace Period')] = 1\n",
    "\n",
    "loan_status[loan_status != 1] = 0\n",
    "\n",
    "all_accept_df['loan_status'] = pd.to_numeric(loan_status)"
   ]
  },
  {
   "cell_type": "code",
   "execution_count": 254,
   "metadata": {},
   "outputs": [],
   "source": [
    "# convert column to numeric\n",
    "\n",
    "all_accept_df['term'] = pd.to_numeric(all_accept_df['term'].apply(lambda x: re.findall(r'\\d+', str(x))).str[0])\n",
    "all_accept_df['deferral_term'] = pd.to_numeric(all_accept_df['deferral_term'])"
   ]
  },
  {
   "cell_type": "code",
   "execution_count": 255,
   "metadata": {},
   "outputs": [],
   "source": [
    "# filter dataframe by year and term months \n",
    "# so as to create pools of poolSize\n",
    "\n",
    "all_accept_df = all_accept_df[pd.DatetimeIndex(all_accept_df['issue_d']).year == year]\n",
    "all_accept_df = all_accept_df[all_accept_df['term'] == term]\n",
    "\n",
    "sampleSize = int(all_accept_df.shape[0] / poolSize) * poolSize\n",
    "\n",
    "all_accept_df = all_accept_df.sample(sampleSize)"
   ]
  },
  {
   "cell_type": "code",
   "execution_count": 256,
   "metadata": {},
   "outputs": [],
   "source": [
    "def ConvertDateTimeToOrdinal(d):\n",
    "    if d is pd.NaT:\n",
    "        return 0\n",
    "    else:\n",
    "        return d.toordinal()"
   ]
  },
  {
   "cell_type": "code",
   "execution_count": 257,
   "metadata": {},
   "outputs": [],
   "source": [
    "# convert columns to datetime (toordinal)\n",
    "\n",
    "dateCols = pd.Series(\n",
    "    ['issue_d',\n",
    "    'earliest_cr_line',\n",
    "    'last_pymnt_d',\n",
    "    'next_pymnt_d',\n",
    "    'last_credit_pull_d',\n",
    "    'debt_settlement_flag_date',\n",
    "    'settlement_date',\n",
    "    'hardship_start_date',\n",
    "    'hardship_end_date',\n",
    "    'payment_plan_start_date',\n",
    "    'sec_app_earliest_cr_line'])\n",
    "\n",
    "for col in dateCols:    \n",
    "    all_accept_df[col] = pd.to_datetime(all_accept_df[col]).apply(ConvertDateTimeToOrdinal)"
   ]
  },
  {
   "cell_type": "code",
   "execution_count": 258,
   "metadata": {},
   "outputs": [],
   "source": [
    "# drop columns to be ignore for now\n",
    "\n",
    "all_accept_df = all_accept_df.drop([\n",
    "    'id',\n",
    "    'member_id',\n",
    "    'emp_title',\n",
    "    'emp_length',\n",
    "    'home_ownership',\n",
    "    'url',\n",
    "    'desc',\n",
    "    'title',\n",
    "    'zip_code',\n",
    "    'addr_state',\n",
    "    'initial_list_status',\n",
    "    'verification_status_joint',  \n",
    "    'hardship_type',\n",
    "    'hardship_reason',\n",
    "    'disbursement_method'\n",
    "], axis=1)"
   ]
  },
  {
   "cell_type": "code",
   "execution_count": 259,
   "metadata": {},
   "outputs": [],
   "source": [
    "# Dummify\n",
    "\n",
    "colsToBeDummified = pd.Series(\n",
    "    ['grade',\n",
    "    'sub_grade',\n",
    "    'verification_status',\n",
    "    'purpose',\n",
    "    'pymnt_plan',\n",
    "    'application_type',\n",
    "    'hardship_flag',\n",
    "    'hardship_status',\n",
    "    'hardship_loan_status',\n",
    "    'debt_settlement_flag',\n",
    "    'settlement_status'])\n",
    "\n",
    "for col in colsToBeDummified:    \n",
    "    all_accept_df = all_accept_df.join(pd.get_dummies(all_accept_df[col], drop_first=True, prefix=col))\n",
    "    all_accept_df = all_accept_df.drop(col, axis=1)"
   ]
  },
  {
   "cell_type": "code",
   "execution_count": 260,
   "metadata": {},
   "outputs": [],
   "source": [
    "# handle na\n",
    "\n",
    "all_accept_df.fillna(0, inplace=True)"
   ]
  },
  {
   "cell_type": "code",
   "execution_count": 261,
   "metadata": {},
   "outputs": [],
   "source": [
    "# make sure all columns are numeric\n",
    "\n",
    "for col in all_accept_df.columns:\n",
    "    all_accept_df[col] = pd.to_numeric(all_accept_df[col])"
   ]
  },
  {
   "cell_type": "code",
   "execution_count": 262,
   "metadata": {},
   "outputs": [
    {
     "name": "stdout",
     "output_type": "stream",
     "text": [
      "<class 'pandas.core.frame.DataFrame'>\n",
      "Int64Index: 160000 entries, 1204207 to 1209454\n",
      "Columns: 186 entries, loan_amnt to settlement_status_COMPLETE\n",
      "dtypes: float64(113), int64(12), uint8(61)\n",
      "memory usage: 168.1 MB\n"
     ]
    }
   ],
   "source": [
    "all_accept_df.info()"
   ]
  },
  {
   "cell_type": "markdown",
   "metadata": {},
   "source": [
    "### Define function to evaluate tranche returns for pools"
   ]
  },
  {
   "cell_type": "code",
   "execution_count": 284,
   "metadata": {},
   "outputs": [],
   "source": [
    "def evaluatePools(pools):\n",
    "    total_loan_amnts = []\n",
    "    avg_int_rate = []\n",
    "    avg_dti = []\n",
    "    avg_fico_range_low = []\n",
    "    avg_fico_range_high = []\n",
    "    total_pymnts = []\n",
    "    total_rec_prncp = []\n",
    "    total_rec_int = []\n",
    "\n",
    "    senior_init_pymt = []\n",
    "    senior_total_pymt = []\n",
    "    senior_int = []\n",
    "\n",
    "    subordinate_init_pymt = []\n",
    "    subordinate_total_pymt = []\n",
    "    subordinate_int = []\n",
    "\n",
    "    equity_init_pymt = []\n",
    "    equity_total_pymt = []\n",
    "    equity_int = []\n",
    "\n",
    "    total_calc_pymnts = []\n",
    "    \n",
    "    for pool in pools:\n",
    "        total_loan_amnt = np.sum(pool['loan_amnt'])\n",
    "        total_pymt = np.sum(pool['total_pymnt'])\n",
    "        \n",
    "        total_loan_amnts.append(total_loan_amnt)\n",
    "        avg_int_rate.append(np.mean(pool['int_rate']))\n",
    "        avg_dti.append(np.mean(pool['dti']))\n",
    "        avg_fico_range_low.append(np.mean(pool['fico_range_low']))\n",
    "        avg_fico_range_high.append(np.mean(pool['fico_range_high']))\n",
    "        total_pymnts.append(total_pymt)\n",
    "        total_rec_prncp.append(np.sum(pool['total_rec_prncp']))\n",
    "        total_rec_int.append(np.sum(pool['total_rec_int']))\n",
    "\n",
    "        #senior tranche\n",
    "        init_pymt = senior_perc_contr*total_loan_amnt\n",
    "        senior_init_pymt.append(init_pymt)\n",
    "\n",
    "        total_sen_pymt = np.pmt(senior_ann_int/12, term, -senior_perc_contr*total_loan_amnt) * term\n",
    "        senior_total_pymt.append(total_sen_pymt)\n",
    "\n",
    "        if total_sen_pymt < total_pymt:\n",
    "            senior_int.append(senior_ann_int * 100)\n",
    "        else:\n",
    "            int_approx = np.rate(term, total_pymt / term, -init_pymt, 0) * 12 * 100\n",
    "            senior_int.append(int_approx)\n",
    "\n",
    "        #subordinate tranche\n",
    "        init_pymt = subordinate_perc_contr*total_loan_amnt\n",
    "        subordinate_init_pymt.append(init_pymt)\n",
    "\n",
    "        total_subordinate_pymt = np.pmt(subordinate_ann_int/12, term, -subordinate_perc_contr*total_loan_amnt) * term\n",
    "        subordinate_total_pymt.append(total_subordinate_pymt)\n",
    "\n",
    "        if (total_sen_pymt + total_subordinate_pymt) < total_pymt:\n",
    "            subordinate_int.append(subordinate_ann_int * 100)\n",
    "        else:\n",
    "            int_approx = np.rate(term, (total_pymt - total_sen_pymt) / term, -init_pymt, 0) * 12 * 100\n",
    "            subordinate_int.append(int_approx)\n",
    "\n",
    "        #equity tranche\n",
    "        init_pymt = equity_perc_contr*total_loan_amnt\n",
    "        equity_init_pymt.append(init_pymt)\n",
    "\n",
    "        total_equity_pymt = total_pymt - total_sen_pymt - total_subordinate_pymt\n",
    "        equity_total_pymt.append(total_equity_pymt)\n",
    "\n",
    "        int_approx = np.rate(36, 0, -init_pymt, total_equity_pymt) * 12 * 100\n",
    "        equity_int.append(int_approx)\n",
    "\n",
    "        #total calculated payments\n",
    "        total_calc_pymnts.append(total_sen_pymt+total_subordinate_pymt+total_equity_pymt)\n",
    "    \n",
    "    #create results data frame\n",
    "    list_of_tuples = list(zip(total_loan_amnts, avg_int_rate, avg_dti, avg_fico_range_low, avg_fico_range_high, total_pymnts, total_rec_prncp, total_rec_int, senior_init_pymt, senior_total_pymt, senior_int, subordinate_init_pymt, subordinate_total_pymt, subordinate_int, equity_init_pymt, equity_total_pymt, equity_int, total_calc_pymnts))\n",
    "\n",
    "    pool_results_df = pd.DataFrame(list_of_tuples,\n",
    "                                  columns = ['total_loan_amnts', 'avg_int_rate', 'avg_dti', 'avg_fico_range_low', 'avg_fico_range_high', 'total_pymnts', 'total_rec_prncp', 'total_rec_int', 'senior_init_pymt', 'senior_total_pymt', 'senior_int', 'subordinate_init_pymt', 'subordinate_total_pymt', 'subordinate_int', 'equity_init_pymt', 'equity_total_pymt', 'equity_int', 'total_calc_pymnts'])\n",
    "\n",
    "    return(pool_results_df)"
   ]
  },
  {
   "cell_type": "markdown",
   "metadata": {},
   "source": [
    "### Evaluate performance of randomly created pools"
   ]
  },
  {
   "cell_type": "code",
   "execution_count": 285,
   "metadata": {},
   "outputs": [
    {
     "name": "stdout",
     "output_type": "stream",
     "text": [
      "(32, 18)\n"
     ]
    },
    {
     "name": "stderr",
     "output_type": "stream",
     "text": [
      "/Users/kmanda/opt/anaconda3/lib/python3.7/site-packages/ipykernel_launcher.py:42: DeprecationWarning: numpy.pmt is deprecated and will be removed from NumPy 1.20. Use numpy_financial.pmt instead (https://pypi.org/project/numpy-financial/).\n",
      "/Users/kmanda/opt/anaconda3/lib/python3.7/site-packages/ipykernel_launcher.py:55: DeprecationWarning: numpy.pmt is deprecated and will be removed from NumPy 1.20. Use numpy_financial.pmt instead (https://pypi.org/project/numpy-financial/).\n",
      "/Users/kmanda/opt/anaconda3/lib/python3.7/site-packages/ipykernel_launcher.py:71: DeprecationWarning: numpy.rate is deprecated and will be removed from NumPy 1.20. Use numpy_financial.rate instead (https://pypi.org/project/numpy-financial/).\n"
     ]
    },
    {
     "data": {
      "text/html": [
       "<div>\n",
       "<style scoped>\n",
       "    .dataframe tbody tr th:only-of-type {\n",
       "        vertical-align: middle;\n",
       "    }\n",
       "\n",
       "    .dataframe tbody tr th {\n",
       "        vertical-align: top;\n",
       "    }\n",
       "\n",
       "    .dataframe thead th {\n",
       "        text-align: right;\n",
       "    }\n",
       "</style>\n",
       "<table border=\"1\" class=\"dataframe\">\n",
       "  <thead>\n",
       "    <tr style=\"text-align: right;\">\n",
       "      <th></th>\n",
       "      <th>total_loan_amnts</th>\n",
       "      <th>avg_int_rate</th>\n",
       "      <th>avg_dti</th>\n",
       "      <th>avg_fico_range_low</th>\n",
       "      <th>avg_fico_range_high</th>\n",
       "      <th>total_pymnts</th>\n",
       "      <th>total_rec_prncp</th>\n",
       "      <th>total_rec_int</th>\n",
       "      <th>senior_init_pymt</th>\n",
       "      <th>senior_total_pymt</th>\n",
       "      <th>senior_int</th>\n",
       "      <th>subordinate_init_pymt</th>\n",
       "      <th>subordinate_total_pymt</th>\n",
       "      <th>subordinate_int</th>\n",
       "      <th>equity_init_pymt</th>\n",
       "      <th>equity_total_pymt</th>\n",
       "      <th>equity_int</th>\n",
       "      <th>total_calc_pymnts</th>\n",
       "    </tr>\n",
       "  </thead>\n",
       "  <tbody>\n",
       "    <tr>\n",
       "      <th>0</th>\n",
       "      <td>63491225.0</td>\n",
       "      <td>12.526176</td>\n",
       "      <td>17.616704</td>\n",
       "      <td>692.213</td>\n",
       "      <td>696.213</td>\n",
       "      <td>6.888350e+07</td>\n",
       "      <td>58344550.23</td>\n",
       "      <td>9866487.28</td>\n",
       "      <td>31745612.5</td>\n",
       "      <td>3.425200e+07</td>\n",
       "      <td>5.0</td>\n",
       "      <td>19047367.5</td>\n",
       "      <td>2.212578e+07</td>\n",
       "      <td>10.0</td>\n",
       "      <td>6349122.5</td>\n",
       "      <td>1.250572e+07</td>\n",
       "      <td>22.809715</td>\n",
       "      <td>6.888350e+07</td>\n",
       "    </tr>\n",
       "    <tr>\n",
       "      <th>1</th>\n",
       "      <td>62644350.0</td>\n",
       "      <td>12.354450</td>\n",
       "      <td>17.377726</td>\n",
       "      <td>693.276</td>\n",
       "      <td>697.276</td>\n",
       "      <td>6.810712e+07</td>\n",
       "      <td>57920153.46</td>\n",
       "      <td>9507584.43</td>\n",
       "      <td>31322175.0</td>\n",
       "      <td>3.379513e+07</td>\n",
       "      <td>5.0</td>\n",
       "      <td>18793305.0</td>\n",
       "      <td>2.183066e+07</td>\n",
       "      <td>10.0</td>\n",
       "      <td>6264435.0</td>\n",
       "      <td>1.248133e+07</td>\n",
       "      <td>23.199598</td>\n",
       "      <td>6.810712e+07</td>\n",
       "    </tr>\n",
       "    <tr>\n",
       "      <th>2</th>\n",
       "      <td>63966400.0</td>\n",
       "      <td>12.393028</td>\n",
       "      <td>17.743252</td>\n",
       "      <td>692.810</td>\n",
       "      <td>696.810</td>\n",
       "      <td>6.933975e+07</td>\n",
       "      <td>58788949.00</td>\n",
       "      <td>9827216.02</td>\n",
       "      <td>31983200.0</td>\n",
       "      <td>3.450835e+07</td>\n",
       "      <td>5.0</td>\n",
       "      <td>19189920.0</td>\n",
       "      <td>2.229137e+07</td>\n",
       "      <td>10.0</td>\n",
       "      <td>6396640.0</td>\n",
       "      <td>1.254003e+07</td>\n",
       "      <td>22.649537</td>\n",
       "      <td>6.933975e+07</td>\n",
       "    </tr>\n",
       "    <tr>\n",
       "      <th>3</th>\n",
       "      <td>62829650.0</td>\n",
       "      <td>12.404582</td>\n",
       "      <td>17.617794</td>\n",
       "      <td>692.303</td>\n",
       "      <td>696.303</td>\n",
       "      <td>6.848718e+07</td>\n",
       "      <td>58141445.55</td>\n",
       "      <td>9675396.48</td>\n",
       "      <td>31414825.0</td>\n",
       "      <td>3.389510e+07</td>\n",
       "      <td>5.0</td>\n",
       "      <td>18848895.0</td>\n",
       "      <td>2.189523e+07</td>\n",
       "      <td>10.0</td>\n",
       "      <td>6282965.0</td>\n",
       "      <td>1.269685e+07</td>\n",
       "      <td>23.681027</td>\n",
       "      <td>6.848718e+07</td>\n",
       "    </tr>\n",
       "    <tr>\n",
       "      <th>4</th>\n",
       "      <td>62689200.0</td>\n",
       "      <td>12.500272</td>\n",
       "      <td>17.621492</td>\n",
       "      <td>692.497</td>\n",
       "      <td>696.497</td>\n",
       "      <td>6.843013e+07</td>\n",
       "      <td>57953802.67</td>\n",
       "      <td>9788226.21</td>\n",
       "      <td>31344600.0</td>\n",
       "      <td>3.381933e+07</td>\n",
       "      <td>5.0</td>\n",
       "      <td>18806760.0</td>\n",
       "      <td>2.184628e+07</td>\n",
       "      <td>10.0</td>\n",
       "      <td>6268920.0</td>\n",
       "      <td>1.276451e+07</td>\n",
       "      <td>23.937791</td>\n",
       "      <td>6.843013e+07</td>\n",
       "    </tr>\n",
       "  </tbody>\n",
       "</table>\n",
       "</div>"
      ],
      "text/plain": [
       "   total_loan_amnts  avg_int_rate    avg_dti  avg_fico_range_low  \\\n",
       "0        63491225.0     12.526176  17.616704             692.213   \n",
       "1        62644350.0     12.354450  17.377726             693.276   \n",
       "2        63966400.0     12.393028  17.743252             692.810   \n",
       "3        62829650.0     12.404582  17.617794             692.303   \n",
       "4        62689200.0     12.500272  17.621492             692.497   \n",
       "\n",
       "   avg_fico_range_high  total_pymnts  total_rec_prncp  total_rec_int  \\\n",
       "0              696.213  6.888350e+07      58344550.23     9866487.28   \n",
       "1              697.276  6.810712e+07      57920153.46     9507584.43   \n",
       "2              696.810  6.933975e+07      58788949.00     9827216.02   \n",
       "3              696.303  6.848718e+07      58141445.55     9675396.48   \n",
       "4              696.497  6.843013e+07      57953802.67     9788226.21   \n",
       "\n",
       "   senior_init_pymt  senior_total_pymt  senior_int  subordinate_init_pymt  \\\n",
       "0        31745612.5       3.425200e+07         5.0             19047367.5   \n",
       "1        31322175.0       3.379513e+07         5.0             18793305.0   \n",
       "2        31983200.0       3.450835e+07         5.0             19189920.0   \n",
       "3        31414825.0       3.389510e+07         5.0             18848895.0   \n",
       "4        31344600.0       3.381933e+07         5.0             18806760.0   \n",
       "\n",
       "   subordinate_total_pymt  subordinate_int  equity_init_pymt  \\\n",
       "0            2.212578e+07             10.0         6349122.5   \n",
       "1            2.183066e+07             10.0         6264435.0   \n",
       "2            2.229137e+07             10.0         6396640.0   \n",
       "3            2.189523e+07             10.0         6282965.0   \n",
       "4            2.184628e+07             10.0         6268920.0   \n",
       "\n",
       "   equity_total_pymt  equity_int  total_calc_pymnts  \n",
       "0       1.250572e+07   22.809715       6.888350e+07  \n",
       "1       1.248133e+07   23.199598       6.810712e+07  \n",
       "2       1.254003e+07   22.649537       6.933975e+07  \n",
       "3       1.269685e+07   23.681027       6.848718e+07  \n",
       "4       1.276451e+07   23.937791       6.843013e+07  "
      ]
     },
     "execution_count": 285,
     "metadata": {},
     "output_type": "execute_result"
    }
   ],
   "source": [
    "i=0\n",
    "pools = []\n",
    "\n",
    "while i < all_accept_df.shape[0]:\n",
    "    pools.append(pd.DataFrame(all_accept_df[i:i+poolSize]))\n",
    "    i = i + poolSize\n",
    "    \n",
    "pool_results_df = evaluatePools(pools)\n",
    "\n",
    "print(pool_results_df.shape)\n",
    "pool_results_df.head()"
   ]
  },
  {
   "cell_type": "markdown",
   "metadata": {},
   "source": [
    "### Data visualization"
   ]
  },
  {
   "cell_type": "code",
   "execution_count": 296,
   "metadata": {},
   "outputs": [
    {
     "data": {
      "text/plain": [
       "<matplotlib.legend.Legend at 0x7fd247c32b50>"
      ]
     },
     "execution_count": 296,
     "metadata": {},
     "output_type": "execute_result"
    },
    {
     "data": {
      "image/png": "[encoded data removed]",
      "text/plain": [
       "<Figure size 1008x864 with 1 Axes>"
      ]
     },
     "metadata": {
      "needs_background": "light"
     },
     "output_type": "display_data"
    }
   ],
   "source": [
    "plt = pool_results_df.plot(y=[\"senior_int\", \"subordinate_int\", \"equity_int\"], kind=\"bar\", figsize=(14, 12))\n",
    "plt.legend([\"Senior tranche interest rate\", \"Subordinate tranche interest rate\", \"Equity tranche interest rate\"])\n"
   ]
  }
 ],
 "metadata": {
  "kernelspec": {
   "display_name": "Python 3",
   "language": "python",
   "name": "python3"
  },
  "language_info": {
   "codemirror_mode": {
    "name": "ipython",
    "version": 3
   },
   "file_extension": ".py",
   "mimetype": "text/x-python",
   "name": "python",
   "nbconvert_exporter": "python",
   "pygments_lexer": "ipython3",
   "version": "3.7.6"
  }
 },
 "nbformat": 4,
 "nbformat_minor": 4
}
