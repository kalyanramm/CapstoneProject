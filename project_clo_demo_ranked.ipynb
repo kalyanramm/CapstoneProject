{
 "cells": [
  {
   "cell_type": "code",
   "execution_count": 1,
   "metadata": {},
   "outputs": [],
   "source": [
    "import re\n",
    "import os\n",
    "\n",
    "import pandas as pd\n",
    "import numpy as np\n",
    "import seaborn as sns\n",
    "import matplotlib.pyplot as plt\n",
    "\n",
    "import datetime as dt\n",
    "\n",
    "from sklearn import model_selection\n",
    "\n",
    "from sklearn.metrics import confusion_matrix\n",
    "\n",
    "%matplotlib inline "
   ]
  },
  {
   "cell_type": "markdown",
   "metadata": {},
   "source": [
    "### Constants"
   ]
  },
  {
   "cell_type": "code",
   "execution_count": 2,
   "metadata": {},
   "outputs": [],
   "source": [
    "poolSize = 5000\n",
    "\n",
    "senior_perc_contr = 0.5\n",
    "senior_ann_int = 0.05\n",
    "\n",
    "subordinate_perc_contr = 0.3\n",
    "subordinate_ann_int = 0.1\n",
    "\n",
    "equity_perc_contr = 0.1\n",
    "\n",
    "year = 2014\n",
    "term = 36"
   ]
  },
  {
   "cell_type": "markdown",
   "metadata": {},
   "source": [
    "### Load models"
   ]
  },
  {
   "cell_type": "code",
   "execution_count": 3,
   "metadata": {},
   "outputs": [],
   "source": [
    "import xgboost as xgb\n",
    "from sklearn.metrics import mean_squared_error\n",
    "\n",
    "xgbModel = xgb.Booster({'nthread': 4})  # init model\n",
    "xgbModel.load_model('xgb_best_model')  # load data"
   ]
  },
  {
   "cell_type": "code",
   "execution_count": 4,
   "metadata": {},
   "outputs": [],
   "source": [
    "from tensorflow import keras\n",
    "kerasModel = keras.models.load_model('keras_model')"
   ]
  },
  {
   "cell_type": "markdown",
   "metadata": {},
   "source": [
    "### Load model results"
   ]
  },
  {
   "cell_type": "code",
   "execution_count": 5,
   "metadata": {},
   "outputs": [],
   "source": [
    "predicted_good_loan_ids = set()"
   ]
  },
  {
   "cell_type": "code",
   "execution_count": 6,
   "metadata": {},
   "outputs": [],
   "source": [
    "xgb_results_df = pd.read_csv('all_accept_xgb_df.csv') \n",
    "\n",
    "for i in range(len(xgb_results_df)):\n",
    "    if xgb_results_df.loc[i, \"predicted_val\"] == 1:\n",
    "        predicted_good_loan_ids.add(xgb_results_df.loc[i, \"id\"])"
   ]
  },
  {
   "cell_type": "code",
   "execution_count": 7,
   "metadata": {},
   "outputs": [],
   "source": [
    "keras_results_df = pd.read_csv('all_accept_keras_df.csv') \n",
    "\n",
    "for i in range(len(keras_results_df)):\n",
    "    if keras_results_df.loc[i, \"predicted_val\"] == 1:\n",
    "        predicted_good_loan_ids.add(keras_results_df.loc[i, \"id\"])"
   ]
  },
  {
   "cell_type": "markdown",
   "metadata": {},
   "source": [
    "### Data analysis"
   ]
  },
  {
   "cell_type": "code",
   "execution_count": 8,
   "metadata": {},
   "outputs": [
    {
     "name": "stderr",
     "output_type": "stream",
     "text": [
      "C:\\Users\\Kalyan Manda\\anaconda3\\lib\\site-packages\\IPython\\core\\interactiveshell.py:3146: DtypeWarning: Columns (0,19,49,59,118,129,130,131,134,135,136,139,145,146,147) have mixed types.Specify dtype option on import or set low_memory=False.\n",
      "  has_raised = await self.run_ast_nodes(code_ast.body, cell_name,\n"
     ]
    }
   ],
   "source": [
    "# all accepted loans from lendingclub\n",
    "all_accept_df = pd.read_csv('./archive/accepted_2007_to_2018q4.csv')"
   ]
  },
  {
   "cell_type": "code",
   "execution_count": 9,
   "metadata": {},
   "outputs": [
    {
     "data": {
      "text/plain": [
       "(2260701, 151)"
      ]
     },
     "execution_count": 9,
     "metadata": {},
     "output_type": "execute_result"
    }
   ],
   "source": [
    "all_accept_df.shape"
   ]
  },
  {
   "cell_type": "code",
   "execution_count": 10,
   "metadata": {},
   "outputs": [],
   "source": [
    "all_accept_df = all_accept_df[all_accept_df['id'].isin(predicted_good_loan_ids)]"
   ]
  },
  {
   "cell_type": "code",
   "execution_count": 11,
   "metadata": {},
   "outputs": [
    {
     "data": {
      "text/plain": [
       "(1929988, 151)"
      ]
     },
     "execution_count": 11,
     "metadata": {},
     "output_type": "execute_result"
    }
   ],
   "source": [
    "all_accept_df.shape"
   ]
  },
  {
   "cell_type": "code",
   "execution_count": 12,
   "metadata": {},
   "outputs": [
    {
     "data": {
      "text/plain": [
       "array(['Fully Paid', 'Current', 'Charged Off', 'In Grace Period',\n",
       "       'Late (31-120 days)', 'Late (16-30 days)', 'Default'], dtype=object)"
      ]
     },
     "execution_count": 12,
     "metadata": {},
     "output_type": "execute_result"
    }
   ],
   "source": [
    "# drop invalid loan_status to 'Unknown'\n",
    "\n",
    "all_accept_df.loc[pd.isnull(all_accept_df['loan_status']),'loan_status'] = 'Unknown'\n",
    "\n",
    "all_accept_df.loan_status.unique()"
   ]
  },
  {
   "cell_type": "code",
   "execution_count": 13,
   "metadata": {
    "scrolled": true
   },
   "outputs": [
    {
     "name": "stderr",
     "output_type": "stream",
     "text": [
      "<ipython-input-13-e98628443b49>:3: SettingWithCopyWarning: \n",
      "A value is trying to be set on a copy of a slice from a DataFrame\n",
      "\n",
      "See the caveats in the documentation: https://pandas.pydata.org/pandas-docs/stable/user_guide/indexing.html#returning-a-view-versus-a-copy\n",
      "  loan_status[(loan_status=='Fully Paid') | (loan_status=='Current') |\n",
      "<ipython-input-13-e98628443b49>:7: SettingWithCopyWarning: \n",
      "A value is trying to be set on a copy of a slice from a DataFrame\n",
      "\n",
      "See the caveats in the documentation: https://pandas.pydata.org/pandas-docs/stable/user_guide/indexing.html#returning-a-view-versus-a-copy\n",
      "  loan_status[loan_status != 1] = 0\n"
     ]
    }
   ],
   "source": [
    "loan_status = all_accept_df['loan_status']\n",
    "\n",
    "loan_status[(loan_status=='Fully Paid') | (loan_status=='Current') |\n",
    "            (loan_status=='Does not meet the credit policy. Status:Fully Paid') |\n",
    "            (loan_status=='In Grace Period')] = 1\n",
    "\n",
    "loan_status[loan_status != 1] = 0\n",
    "\n",
    "all_accept_df['loan_status'] = pd.to_numeric(loan_status)"
   ]
  },
  {
   "cell_type": "code",
   "execution_count": 14,
   "metadata": {},
   "outputs": [],
   "source": [
    "# convert column to numeric\n",
    "\n",
    "all_accept_df['term'] = pd.to_numeric(all_accept_df['term'].apply(lambda x: re.findall(r'\\d+', str(x))).str[0])\n",
    "all_accept_df['deferral_term'] = pd.to_numeric(all_accept_df['deferral_term'])"
   ]
  },
  {
   "cell_type": "code",
   "execution_count": 15,
   "metadata": {},
   "outputs": [],
   "source": [
    "# filter dataframe by year and term months \n",
    "# so as to create pools of poolSize\n",
    "\n",
    "all_accept_df = all_accept_df[pd.DatetimeIndex(all_accept_df['issue_d']).year == year]\n",
    "all_accept_df = all_accept_df[all_accept_df['term'] == term]\n",
    "\n",
    "sampleSize = int(all_accept_df.shape[0] / poolSize) * poolSize\n",
    "\n",
    "all_accept_df = all_accept_df.sample(sampleSize)"
   ]
  },
  {
   "cell_type": "code",
   "execution_count": 16,
   "metadata": {},
   "outputs": [],
   "source": [
    "def ConvertDateTimeToOrdinal(d):\n",
    "    if d is pd.NaT:\n",
    "        return 0\n",
    "    else:\n",
    "        return d.toordinal()"
   ]
  },
  {
   "cell_type": "code",
   "execution_count": 17,
   "metadata": {},
   "outputs": [],
   "source": [
    "# convert columns to datetime (toordinal)\n",
    "\n",
    "dateCols = pd.Series(\n",
    "    ['issue_d',\n",
    "    'earliest_cr_line',\n",
    "    'last_pymnt_d',\n",
    "    'next_pymnt_d',\n",
    "    'last_credit_pull_d',\n",
    "    'debt_settlement_flag_date',\n",
    "    'settlement_date',\n",
    "    'hardship_start_date',\n",
    "    'hardship_end_date',\n",
    "    'payment_plan_start_date',\n",
    "    'sec_app_earliest_cr_line'])\n",
    "\n",
    "for col in dateCols:    \n",
    "    all_accept_df[col] = pd.to_datetime(all_accept_df[col]).apply(ConvertDateTimeToOrdinal)"
   ]
  },
  {
   "cell_type": "code",
   "execution_count": 18,
   "metadata": {},
   "outputs": [],
   "source": [
    "# drop columns to be ignore for now\n",
    "\n",
    "all_accept_df = all_accept_df.drop([\n",
    "    'id',\n",
    "    'member_id',\n",
    "    'emp_title',\n",
    "    'emp_length',\n",
    "    'home_ownership',\n",
    "    'url',\n",
    "    'desc',\n",
    "    'title',\n",
    "    'zip_code',\n",
    "    'addr_state',\n",
    "    'initial_list_status',\n",
    "    'verification_status_joint',  \n",
    "    'hardship_type',\n",
    "    'hardship_reason',\n",
    "    'disbursement_method'\n",
    "], axis=1)"
   ]
  },
  {
   "cell_type": "code",
   "execution_count": 19,
   "metadata": {},
   "outputs": [],
   "source": [
    "# Dummify\n",
    "\n",
    "colsToBeDummified = pd.Series(\n",
    "    ['grade',\n",
    "    'sub_grade',\n",
    "    'verification_status',\n",
    "    'purpose',\n",
    "    'pymnt_plan',\n",
    "    'application_type',\n",
    "    'hardship_flag',\n",
    "    'hardship_status',\n",
    "    'hardship_loan_status',\n",
    "    'debt_settlement_flag',\n",
    "    'settlement_status'])\n",
    "\n",
    "for col in colsToBeDummified:    \n",
    "    all_accept_df = all_accept_df.join(pd.get_dummies(all_accept_df[col], drop_first=True, prefix=col))\n",
    "    all_accept_df = all_accept_df.drop(col, axis=1)"
   ]
  },
  {
   "cell_type": "code",
   "execution_count": 20,
   "metadata": {},
   "outputs": [],
   "source": [
    "# handle na\n",
    "\n",
    "all_accept_df.fillna(0, inplace=True)"
   ]
  },
  {
   "cell_type": "code",
   "execution_count": 21,
   "metadata": {},
   "outputs": [],
   "source": [
    "# make sure all columns are numeric\n",
    "\n",
    "for col in all_accept_df.columns:\n",
    "    all_accept_df[col] = pd.to_numeric(all_accept_df[col])"
   ]
  },
  {
   "cell_type": "code",
   "execution_count": 22,
   "metadata": {},
   "outputs": [
    {
     "name": "stdout",
     "output_type": "stream",
     "text": [
      "<class 'pandas.core.frame.DataFrame'>\n",
      "Int64Index: 140000 entries, 1153622 to 1329465\n",
      "Columns: 186 entries, loan_amnt to settlement_status_COMPLETE\n",
      "dtypes: float64(112), int64(13), uint8(61)\n",
      "memory usage: 147.7 MB\n"
     ]
    }
   ],
   "source": [
    "all_accept_df.info()"
   ]
  },
  {
   "cell_type": "markdown",
   "metadata": {},
   "source": [
    "### Define function to evaluate tranche returns for pools"
   ]
  },
  {
   "cell_type": "code",
   "execution_count": 23,
   "metadata": {},
   "outputs": [],
   "source": [
    "def evaluatePools(pools):\n",
    "    total_loan_amnts = []\n",
    "    avg_int_rate = []\n",
    "    avg_dti = []\n",
    "    avg_fico_range_low = []\n",
    "    avg_fico_range_high = []\n",
    "    total_pymnts = []\n",
    "    total_rec_prncp = []\n",
    "    total_rec_int = []\n",
    "\n",
    "    senior_init_pymt = []\n",
    "    senior_total_pymt = []\n",
    "    senior_int = []\n",
    "\n",
    "    subordinate_init_pymt = []\n",
    "    subordinate_total_pymt = []\n",
    "    subordinate_int = []\n",
    "\n",
    "    equity_init_pymt = []\n",
    "    equity_total_pymt = []\n",
    "    equity_int = []\n",
    "\n",
    "    total_calc_pymnts = []\n",
    "    \n",
    "    for pool in pools:\n",
    "        total_loan_amnt = np.sum(pool['loan_amnt'])\n",
    "        total_pymt = np.sum(pool['total_pymnt'])\n",
    "        \n",
    "        total_loan_amnts.append(total_loan_amnt)\n",
    "        avg_int_rate.append(np.mean(pool['int_rate']))\n",
    "        avg_dti.append(np.mean(pool['dti']))\n",
    "        avg_fico_range_low.append(np.mean(pool['fico_range_low']))\n",
    "        avg_fico_range_high.append(np.mean(pool['fico_range_high']))\n",
    "        total_pymnts.append(total_pymt)\n",
    "        total_rec_prncp.append(np.sum(pool['total_rec_prncp']))\n",
    "        total_rec_int.append(np.sum(pool['total_rec_int']))\n",
    "\n",
    "        #senior tranche\n",
    "        init_pymt = senior_perc_contr*total_loan_amnt\n",
    "        senior_init_pymt.append(init_pymt)\n",
    "\n",
    "        total_sen_pymt = np.pmt(senior_ann_int/12, term, -senior_perc_contr*total_loan_amnt) * term\n",
    "        senior_total_pymt.append(total_sen_pymt)\n",
    "\n",
    "        if total_sen_pymt < total_pymt:\n",
    "            senior_int.append(senior_ann_int * 100)\n",
    "        else:\n",
    "            int_approx = np.rate(term, total_pymt / term, -init_pymt, 0) * 12 * 100\n",
    "            senior_int.append(int_approx)\n",
    "\n",
    "        #subordinate tranche\n",
    "        init_pymt = subordinate_perc_contr*total_loan_amnt\n",
    "        subordinate_init_pymt.append(init_pymt)\n",
    "\n",
    "        total_subordinate_pymt = np.pmt(subordinate_ann_int/12, term, -subordinate_perc_contr*total_loan_amnt) * term\n",
    "        subordinate_total_pymt.append(total_subordinate_pymt)\n",
    "\n",
    "        if (total_sen_pymt + total_subordinate_pymt) < total_pymt:\n",
    "            subordinate_int.append(subordinate_ann_int * 100)\n",
    "        else:\n",
    "            int_approx = np.rate(term, (total_pymt - total_sen_pymt) / term, -init_pymt, 0) * 12 * 100\n",
    "            subordinate_int.append(int_approx)\n",
    "\n",
    "        #equity tranche\n",
    "        init_pymt = equity_perc_contr*total_loan_amnt\n",
    "        equity_init_pymt.append(init_pymt)\n",
    "\n",
    "        total_equity_pymt = total_pymt - total_sen_pymt - total_subordinate_pymt\n",
    "        equity_total_pymt.append(total_equity_pymt)\n",
    "\n",
    "        int_approx = np.rate(36, 0, -init_pymt, total_equity_pymt) * 12 * 100\n",
    "        equity_int.append(int_approx)\n",
    "\n",
    "        #total calculated payments\n",
    "        total_calc_pymnts.append(total_sen_pymt+total_subordinate_pymt+total_equity_pymt)\n",
    "    \n",
    "    #create results data frame\n",
    "    list_of_tuples = list(zip(total_loan_amnts, avg_int_rate, avg_dti, avg_fico_range_low, avg_fico_range_high, total_pymnts, total_rec_prncp, total_rec_int, senior_init_pymt, senior_total_pymt, senior_int, subordinate_init_pymt, subordinate_total_pymt, subordinate_int, equity_init_pymt, equity_total_pymt, equity_int, total_calc_pymnts))\n",
    "\n",
    "    pool_results_df = pd.DataFrame(list_of_tuples,\n",
    "                                  columns = ['total_loan_amnts', 'avg_int_rate', 'avg_dti', 'avg_fico_range_low', 'avg_fico_range_high', 'total_pymnts', 'total_rec_prncp', 'total_rec_int', 'senior_init_pymt', 'senior_total_pymt', 'senior_int', 'subordinate_init_pymt', 'subordinate_total_pymt', 'subordinate_int', 'equity_init_pymt', 'equity_total_pymt', 'equity_int', 'total_calc_pymnts'])\n",
    "\n",
    "    return(pool_results_df)"
   ]
  },
  {
   "cell_type": "markdown",
   "metadata": {},
   "source": [
    "### Evaluate performance of randomly created pools"
   ]
  },
  {
   "cell_type": "code",
   "execution_count": 24,
   "metadata": {},
   "outputs": [
    {
     "name": "stdout",
     "output_type": "stream",
     "text": [
      "(28, 18)\n"
     ]
    },
    {
     "name": "stderr",
     "output_type": "stream",
     "text": [
      "<ipython-input-23-ec9ef7a94212>:42: DeprecationWarning: numpy.pmt is deprecated and will be removed from NumPy 1.20. Use numpy_financial.pmt instead (https://pypi.org/project/numpy-financial/).\n",
      "  total_sen_pymt = np.pmt(senior_ann_int/12, term, -senior_perc_contr*total_loan_amnt) * term\n",
      "<ipython-input-23-ec9ef7a94212>:55: DeprecationWarning: numpy.pmt is deprecated and will be removed from NumPy 1.20. Use numpy_financial.pmt instead (https://pypi.org/project/numpy-financial/).\n",
      "  total_subordinate_pymt = np.pmt(subordinate_ann_int/12, term, -subordinate_perc_contr*total_loan_amnt) * term\n",
      "<ipython-input-23-ec9ef7a94212>:71: DeprecationWarning: numpy.rate is deprecated and will be removed from NumPy 1.20. Use numpy_financial.rate instead (https://pypi.org/project/numpy-financial/).\n",
      "  int_approx = np.rate(36, 0, -init_pymt, total_equity_pymt) * 12 * 100\n"
     ]
    },
    {
     "data": {
      "text/html": [
       "<div>\n",
       "<style scoped>\n",
       "    .dataframe tbody tr th:only-of-type {\n",
       "        vertical-align: middle;\n",
       "    }\n",
       "\n",
       "    .dataframe tbody tr th {\n",
       "        vertical-align: top;\n",
       "    }\n",
       "\n",
       "    .dataframe thead th {\n",
       "        text-align: right;\n",
       "    }\n",
       "</style>\n",
       "<table border=\"1\" class=\"dataframe\">\n",
       "  <thead>\n",
       "    <tr style=\"text-align: right;\">\n",
       "      <th></th>\n",
       "      <th>total_loan_amnts</th>\n",
       "      <th>avg_int_rate</th>\n",
       "      <th>avg_dti</th>\n",
       "      <th>avg_fico_range_low</th>\n",
       "      <th>avg_fico_range_high</th>\n",
       "      <th>total_pymnts</th>\n",
       "      <th>total_rec_prncp</th>\n",
       "      <th>total_rec_int</th>\n",
       "      <th>senior_init_pymt</th>\n",
       "      <th>senior_total_pymt</th>\n",
       "      <th>senior_int</th>\n",
       "      <th>subordinate_init_pymt</th>\n",
       "      <th>subordinate_total_pymt</th>\n",
       "      <th>subordinate_int</th>\n",
       "      <th>equity_init_pymt</th>\n",
       "      <th>equity_total_pymt</th>\n",
       "      <th>equity_int</th>\n",
       "      <th>total_calc_pymnts</th>\n",
       "    </tr>\n",
       "  </thead>\n",
       "  <tbody>\n",
       "    <tr>\n",
       "      <th>0</th>\n",
       "      <td>63967650.0</td>\n",
       "      <td>12.283096</td>\n",
       "      <td>17.342300</td>\n",
       "      <td>692.722</td>\n",
       "      <td>696.7220</td>\n",
       "      <td>7.400294e+07</td>\n",
       "      <td>63851605.81</td>\n",
       "      <td>10093329.43</td>\n",
       "      <td>31983825.0</td>\n",
       "      <td>3.450902e+07</td>\n",
       "      <td>5.0</td>\n",
       "      <td>19190295.0</td>\n",
       "      <td>2.229181e+07</td>\n",
       "      <td>10.0</td>\n",
       "      <td>6396765.0</td>\n",
       "      <td>1.720211e+07</td>\n",
       "      <td>33.431885</td>\n",
       "      <td>7.400294e+07</td>\n",
       "    </tr>\n",
       "    <tr>\n",
       "      <th>1</th>\n",
       "      <td>62885700.0</td>\n",
       "      <td>12.192984</td>\n",
       "      <td>17.295934</td>\n",
       "      <td>693.309</td>\n",
       "      <td>697.3090</td>\n",
       "      <td>7.263755e+07</td>\n",
       "      <td>62768508.25</td>\n",
       "      <td>9823448.13</td>\n",
       "      <td>31442850.0</td>\n",
       "      <td>3.392534e+07</td>\n",
       "      <td>5.0</td>\n",
       "      <td>18865710.0</td>\n",
       "      <td>2.191476e+07</td>\n",
       "      <td>10.0</td>\n",
       "      <td>6288570.0</td>\n",
       "      <td>1.679745e+07</td>\n",
       "      <td>33.200778</td>\n",
       "      <td>7.263755e+07</td>\n",
       "    </tr>\n",
       "    <tr>\n",
       "      <th>2</th>\n",
       "      <td>62663450.0</td>\n",
       "      <td>12.206164</td>\n",
       "      <td>17.450346</td>\n",
       "      <td>694.045</td>\n",
       "      <td>698.0450</td>\n",
       "      <td>7.246199e+07</td>\n",
       "      <td>62598944.48</td>\n",
       "      <td>9836924.65</td>\n",
       "      <td>31331725.0</td>\n",
       "      <td>3.380544e+07</td>\n",
       "      <td>5.0</td>\n",
       "      <td>18799035.0</td>\n",
       "      <td>2.183731e+07</td>\n",
       "      <td>10.0</td>\n",
       "      <td>6266345.0</td>\n",
       "      <td>1.681924e+07</td>\n",
       "      <td>33.366462</td>\n",
       "      <td>7.246199e+07</td>\n",
       "    </tr>\n",
       "    <tr>\n",
       "      <th>3</th>\n",
       "      <td>63475100.0</td>\n",
       "      <td>12.117544</td>\n",
       "      <td>17.194572</td>\n",
       "      <td>694.005</td>\n",
       "      <td>698.0050</td>\n",
       "      <td>7.331361e+07</td>\n",
       "      <td>63361466.63</td>\n",
       "      <td>9883289.10</td>\n",
       "      <td>31737550.0</td>\n",
       "      <td>3.424330e+07</td>\n",
       "      <td>5.0</td>\n",
       "      <td>19042530.0</td>\n",
       "      <td>2.212016e+07</td>\n",
       "      <td>10.0</td>\n",
       "      <td>6347510.0</td>\n",
       "      <td>1.695015e+07</td>\n",
       "      <td>33.191198</td>\n",
       "      <td>7.331361e+07</td>\n",
       "    </tr>\n",
       "    <tr>\n",
       "      <th>4</th>\n",
       "      <td>63869350.0</td>\n",
       "      <td>12.102102</td>\n",
       "      <td>17.291540</td>\n",
       "      <td>694.865</td>\n",
       "      <td>698.8652</td>\n",
       "      <td>7.377193e+07</td>\n",
       "      <td>63761042.31</td>\n",
       "      <td>9957116.93</td>\n",
       "      <td>31934675.0</td>\n",
       "      <td>3.445599e+07</td>\n",
       "      <td>5.0</td>\n",
       "      <td>19160805.0</td>\n",
       "      <td>2.225755e+07</td>\n",
       "      <td>10.0</td>\n",
       "      <td>6386935.0</td>\n",
       "      <td>1.705838e+07</td>\n",
       "      <td>33.197135</td>\n",
       "      <td>7.377193e+07</td>\n",
       "    </tr>\n",
       "  </tbody>\n",
       "</table>\n",
       "</div>"
      ],
      "text/plain": [
       "   total_loan_amnts  avg_int_rate    avg_dti  avg_fico_range_low  \\\n",
       "0        63967650.0     12.283096  17.342300             692.722   \n",
       "1        62885700.0     12.192984  17.295934             693.309   \n",
       "2        62663450.0     12.206164  17.450346             694.045   \n",
       "3        63475100.0     12.117544  17.194572             694.005   \n",
       "4        63869350.0     12.102102  17.291540             694.865   \n",
       "\n",
       "   avg_fico_range_high  total_pymnts  total_rec_prncp  total_rec_int  \\\n",
       "0             696.7220  7.400294e+07      63851605.81    10093329.43   \n",
       "1             697.3090  7.263755e+07      62768508.25     9823448.13   \n",
       "2             698.0450  7.246199e+07      62598944.48     9836924.65   \n",
       "3             698.0050  7.331361e+07      63361466.63     9883289.10   \n",
       "4             698.8652  7.377193e+07      63761042.31     9957116.93   \n",
       "\n",
       "   senior_init_pymt  senior_total_pymt  senior_int  subordinate_init_pymt  \\\n",
       "0        31983825.0       3.450902e+07         5.0             19190295.0   \n",
       "1        31442850.0       3.392534e+07         5.0             18865710.0   \n",
       "2        31331725.0       3.380544e+07         5.0             18799035.0   \n",
       "3        31737550.0       3.424330e+07         5.0             19042530.0   \n",
       "4        31934675.0       3.445599e+07         5.0             19160805.0   \n",
       "\n",
       "   subordinate_total_pymt  subordinate_int  equity_init_pymt  \\\n",
       "0            2.229181e+07             10.0         6396765.0   \n",
       "1            2.191476e+07             10.0         6288570.0   \n",
       "2            2.183731e+07             10.0         6266345.0   \n",
       "3            2.212016e+07             10.0         6347510.0   \n",
       "4            2.225755e+07             10.0         6386935.0   \n",
       "\n",
       "   equity_total_pymt  equity_int  total_calc_pymnts  \n",
       "0       1.720211e+07   33.431885       7.400294e+07  \n",
       "1       1.679745e+07   33.200778       7.263755e+07  \n",
       "2       1.681924e+07   33.366462       7.246199e+07  \n",
       "3       1.695015e+07   33.191198       7.331361e+07  \n",
       "4       1.705838e+07   33.197135       7.377193e+07  "
      ]
     },
     "execution_count": 24,
     "metadata": {},
     "output_type": "execute_result"
    }
   ],
   "source": [
    "i=0\n",
    "pools = []\n",
    "\n",
    "while i < all_accept_df.shape[0]:\n",
    "    pools.append(pd.DataFrame(all_accept_df[i:i+poolSize]))\n",
    "    i = i + poolSize\n",
    "    \n",
    "pool_results_df = evaluatePools(pools)\n",
    "\n",
    "print(pool_results_df.shape)\n",
    "pool_results_df.head()"
   ]
  },
  {
   "cell_type": "markdown",
   "metadata": {},
   "source": [
    "### Data visualization"
   ]
  },
  {
   "cell_type": "code",
   "execution_count": 27,
   "metadata": {},
   "outputs": [
    {
     "data": {
      "text/plain": [
       "<matplotlib.legend.Legend at 0x15587844dc0>"
      ]
     },
     "execution_count": 27,
     "metadata": {},
     "output_type": "execute_result"
    },
    {
     "data": {
      "image/png": "[encoded data removed]",
      "text/plain": [
       "<Figure size 1008x864 with 1 Axes>"
      ]
     },
     "metadata": {
      "needs_background": "light"
     },
     "output_type": "display_data"
    }
   ],
   "source": [
    "plt = pool_results_df.plot(y=[\"senior_int\", \"subordinate_int\", \"equity_int\"], kind=\"bar\", figsize=(14, 12))\n",
    "plt.legend([\"Senior tranche interest rate\", \"Subordinate tranche interest rate\", \"Equity tranche interest rate\"])\n"
   ]
  }
 ],
 "metadata": {
  "kernelspec": {
   "display_name": "Python 3",
   "language": "python",
   "name": "python3"
  },
  "language_info": {
   "codemirror_mode": {
    "name": "ipython",
    "version": 3
   },
   "file_extension": ".py",
   "mimetype": "text/x-python",
   "name": "python",
   "nbconvert_exporter": "python",
   "pygments_lexer": "ipython3",
   "version": "3.8.5"
  }
 },
 "nbformat": 4,
 "nbformat_minor": 4
}
