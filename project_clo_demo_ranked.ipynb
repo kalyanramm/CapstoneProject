{
 "cells": [
  {
   "cell_type": "code",
   "execution_count": 235,
   "metadata": {},
   "outputs": [],
   "source": [
    "import re\n",
    "import os\n",
    "\n",
    "import pandas as pd\n",
    "import numpy as np\n",
    "import seaborn as sns\n",
    "import matplotlib.pyplot as plt\n",
    "\n",
    "import datetime as dt\n",
    "\n",
    "from sklearn import model_selection\n",
    "\n",
    "from sklearn.metrics import confusion_matrix\n",
    "\n",
    "%matplotlib inline "
   ]
  },
  {
   "cell_type": "markdown",
   "metadata": {},
   "source": [
    "### Constants"
   ]
  },
  {
   "cell_type": "code",
   "execution_count": 236,
   "metadata": {},
   "outputs": [],
   "source": [
    "poolSize = 5000\n",
    "\n",
    "senior_perc_contr = 0.5\n",
    "senior_ann_int = 0.025\n",
    "\n",
    "subordinate_perc_contr = 0.35\n",
    "subordinate_ann_int = 0.05\n",
    "\n",
    "equity_perc_contr = 0.15\n",
    "\n",
    "year = 2014\n",
    "term = 36"
   ]
  },
  {
   "cell_type": "markdown",
   "metadata": {},
   "source": [
    "### Load models"
   ]
  },
  {
   "cell_type": "code",
   "execution_count": 237,
   "metadata": {},
   "outputs": [],
   "source": [
    "import xgboost as xgb\n",
    "from sklearn.metrics import mean_squared_error\n",
    "\n",
    "xgbModel = xgb.Booster({'nthread': 4})  # init model\n",
    "xgbModel.load_model('xgb_best_model')  # load data"
   ]
  },
  {
   "cell_type": "code",
   "execution_count": 238,
   "metadata": {},
   "outputs": [],
   "source": [
    "from tensorflow import keras\n",
    "kerasModel = keras.models.load_model('keras_model')"
   ]
  },
  {
   "cell_type": "markdown",
   "metadata": {},
   "source": [
    "### Load model results"
   ]
  },
  {
   "cell_type": "code",
   "execution_count": 239,
   "metadata": {},
   "outputs": [],
   "source": [
    "predicted_good_loan_ids = set()"
   ]
  },
  {
   "cell_type": "code",
   "execution_count": 240,
   "metadata": {},
   "outputs": [
    {
     "name": "stdout",
     "output_type": "stream",
     "text": [
      "0    2253721\n",
      "1    1677263\n",
      "Name: predicted_val, dtype: int64\n"
     ]
    }
   ],
   "source": [
    "xgb_results_df = pd.read_csv('all_accept_xgb_df.csv') \n",
    "print(xgb_results_df.predicted_val.value_counts())\n",
    "\n",
    "for i in range(len(xgb_results_df)):\n",
    "    if xgb_results_df.loc[i, \"predicted_val\"] == 1:\n",
    "        predicted_good_loan_ids.add(xgb_results_df.loc[i, \"id\"])    "
   ]
  },
  {
   "cell_type": "code",
   "execution_count": 241,
   "metadata": {},
   "outputs": [
    {
     "name": "stdout",
     "output_type": "stream",
     "text": [
      "0    2054581\n",
      "1    1876403\n",
      "Name: predicted_val, dtype: int64\n"
     ]
    }
   ],
   "source": [
    "keras_results_df = pd.read_csv('all_accept_keras_df.csv') \n",
    "print(keras_results_df.predicted_val.value_counts())\n",
    "\n",
    "for i in range(len(keras_results_df)):\n",
    "    if keras_results_df.loc[i, \"predicted_val\"] == 1:\n",
    "        predicted_good_loan_ids.add(keras_results_df.loc[i, \"id\"])"
   ]
  },
  {
   "cell_type": "markdown",
   "metadata": {},
   "source": [
    "### Data analysis"
   ]
  },
  {
   "cell_type": "code",
   "execution_count": 242,
   "metadata": {},
   "outputs": [
    {
     "name": "stderr",
     "output_type": "stream",
     "text": [
      "/Users/kmanda/opt/anaconda3/lib/python3.7/site-packages/IPython/core/interactiveshell.py:3063: DtypeWarning: Columns (0,19,49,59,118,129,130,131,134,135,136,139,145,146,147) have mixed types.Specify dtype option on import or set low_memory=False.\n",
      "  interactivity=interactivity, compiler=compiler, result=result)\n"
     ]
    }
   ],
   "source": [
    "# all accepted loans from lendingclub\n",
    "all_accept_df = pd.read_csv('./archive/accepted_2007_to_2018q4.csv')"
   ]
  },
  {
   "cell_type": "code",
   "execution_count": 243,
   "metadata": {},
   "outputs": [
    {
     "data": {
      "text/plain": [
       "(2260701, 151)"
      ]
     },
     "execution_count": 243,
     "metadata": {},
     "output_type": "execute_result"
    }
   ],
   "source": [
    "all_accept_df.shape"
   ]
  },
  {
   "cell_type": "code",
   "execution_count": 244,
   "metadata": {},
   "outputs": [],
   "source": [
    "all_accept_df = all_accept_df[all_accept_df['id'].isin(predicted_good_loan_ids)]"
   ]
  },
  {
   "cell_type": "code",
   "execution_count": 245,
   "metadata": {},
   "outputs": [
    {
     "data": {
      "text/plain": [
       "(1734491, 151)"
      ]
     },
     "execution_count": 245,
     "metadata": {},
     "output_type": "execute_result"
    }
   ],
   "source": [
    "all_accept_df.shape"
   ]
  },
  {
   "cell_type": "code",
   "execution_count": 246,
   "metadata": {},
   "outputs": [
    {
     "data": {
      "text/plain": [
       "array(['Fully Paid', 'Charged Off', 'Current', 'In Grace Period',\n",
       "       'Late (31-120 days)', 'Late (16-30 days)', 'Default'], dtype=object)"
      ]
     },
     "execution_count": 246,
     "metadata": {},
     "output_type": "execute_result"
    }
   ],
   "source": [
    "# drop invalid loan_status to 'Unknown'\n",
    "\n",
    "all_accept_df.loc[pd.isnull(all_accept_df['loan_status']),'loan_status'] = 'Unknown'\n",
    "\n",
    "all_accept_df.loan_status.unique()"
   ]
  },
  {
   "cell_type": "code",
   "execution_count": 247,
   "metadata": {
    "scrolled": true
   },
   "outputs": [
    {
     "name": "stderr",
     "output_type": "stream",
     "text": [
      "/Users/kmanda/opt/anaconda3/lib/python3.7/site-packages/ipykernel_launcher.py:5: SettingWithCopyWarning: \n",
      "A value is trying to be set on a copy of a slice from a DataFrame\n",
      "\n",
      "See the caveats in the documentation: https://pandas.pydata.org/pandas-docs/stable/user_guide/indexing.html#returning-a-view-versus-a-copy\n",
      "  \"\"\"\n",
      "/Users/kmanda/opt/anaconda3/lib/python3.7/site-packages/ipykernel_launcher.py:7: SettingWithCopyWarning: \n",
      "A value is trying to be set on a copy of a slice from a DataFrame\n",
      "\n",
      "See the caveats in the documentation: https://pandas.pydata.org/pandas-docs/stable/user_guide/indexing.html#returning-a-view-versus-a-copy\n",
      "  import sys\n"
     ]
    }
   ],
   "source": [
    "loan_status = all_accept_df['loan_status']\n",
    "\n",
    "loan_status[(loan_status=='Fully Paid') | (loan_status=='Current') |\n",
    "            (loan_status=='Does not meet the credit policy. Status:Fully Paid') |\n",
    "            (loan_status=='In Grace Period')] = 1\n",
    "\n",
    "loan_status[loan_status != 1] = 0\n",
    "\n",
    "all_accept_df['loan_status'] = pd.to_numeric(loan_status)"
   ]
  },
  {
   "cell_type": "code",
   "execution_count": 248,
   "metadata": {},
   "outputs": [],
   "source": [
    "# convert column to numeric\n",
    "\n",
    "all_accept_df['term'] = pd.to_numeric(all_accept_df['term'].apply(lambda x: re.findall(r'\\d+', str(x))).str[0])\n",
    "all_accept_df['deferral_term'] = pd.to_numeric(all_accept_df['deferral_term'])"
   ]
  },
  {
   "cell_type": "code",
   "execution_count": 249,
   "metadata": {},
   "outputs": [],
   "source": [
    "# filter dataframe by year and term months \n",
    "# so as to create pools of poolSize\n",
    "\n",
    "all_accept_df = all_accept_df[pd.DatetimeIndex(all_accept_df['issue_d']).year == year]\n",
    "all_accept_df = all_accept_df[all_accept_df['term'] == term]\n",
    "\n",
    "sampleSize = int(all_accept_df.shape[0] / poolSize) * poolSize\n",
    "\n",
    "all_accept_df = all_accept_df.sample(sampleSize)"
   ]
  },
  {
   "cell_type": "code",
   "execution_count": 250,
   "metadata": {},
   "outputs": [],
   "source": [
    "def ConvertDateTimeToOrdinal(d):\n",
    "    if d is pd.NaT:\n",
    "        return 0\n",
    "    else:\n",
    "        return d.toordinal()"
   ]
  },
  {
   "cell_type": "code",
   "execution_count": 251,
   "metadata": {},
   "outputs": [],
   "source": [
    "# convert columns to datetime (toordinal)\n",
    "\n",
    "dateCols = pd.Series(\n",
    "    ['issue_d',\n",
    "    'earliest_cr_line',\n",
    "    'last_pymnt_d',\n",
    "    'next_pymnt_d',\n",
    "    'last_credit_pull_d',\n",
    "    'debt_settlement_flag_date',\n",
    "    'settlement_date',\n",
    "    'hardship_start_date',\n",
    "    'hardship_end_date',\n",
    "    'payment_plan_start_date',\n",
    "    'sec_app_earliest_cr_line'])\n",
    "\n",
    "for col in dateCols:    \n",
    "    all_accept_df[col] = pd.to_datetime(all_accept_df[col]).apply(ConvertDateTimeToOrdinal)"
   ]
  },
  {
   "cell_type": "code",
   "execution_count": 252,
   "metadata": {},
   "outputs": [],
   "source": [
    "# drop columns to be ignore for now\n",
    "\n",
    "all_accept_df = all_accept_df.drop([\n",
    "    'id',\n",
    "    'member_id',\n",
    "    'emp_title',\n",
    "    'emp_length',\n",
    "    'home_ownership',\n",
    "    'url',\n",
    "    'desc',\n",
    "    'title',\n",
    "    'zip_code',\n",
    "    'addr_state',\n",
    "    'initial_list_status',\n",
    "    'verification_status_joint',  \n",
    "    'hardship_type',\n",
    "    'hardship_reason',\n",
    "    'disbursement_method'\n",
    "], axis=1)"
   ]
  },
  {
   "cell_type": "code",
   "execution_count": 253,
   "metadata": {},
   "outputs": [],
   "source": [
    "# Dummify\n",
    "\n",
    "colsToBeDummified = pd.Series(\n",
    "    ['grade',\n",
    "    'sub_grade',\n",
    "    'verification_status',\n",
    "    'purpose',\n",
    "    'pymnt_plan',\n",
    "    'application_type',\n",
    "    'hardship_flag',\n",
    "    'hardship_status',\n",
    "    'hardship_loan_status',\n",
    "    'debt_settlement_flag',\n",
    "    'settlement_status'])\n",
    "\n",
    "for col in colsToBeDummified:    \n",
    "    all_accept_df = all_accept_df.join(pd.get_dummies(all_accept_df[col], drop_first=True, prefix=col))\n",
    "    all_accept_df = all_accept_df.drop(col, axis=1)"
   ]
  },
  {
   "cell_type": "code",
   "execution_count": 254,
   "metadata": {},
   "outputs": [],
   "source": [
    "# handle na\n",
    "\n",
    "all_accept_df.fillna(0, inplace=True)"
   ]
  },
  {
   "cell_type": "code",
   "execution_count": 255,
   "metadata": {},
   "outputs": [],
   "source": [
    "# make sure all columns are numeric\n",
    "\n",
    "for col in all_accept_df.columns:\n",
    "    all_accept_df[col] = pd.to_numeric(all_accept_df[col])"
   ]
  },
  {
   "cell_type": "code",
   "execution_count": 256,
   "metadata": {},
   "outputs": [
    {
     "name": "stdout",
     "output_type": "stream",
     "text": [
      "<class 'pandas.core.frame.DataFrame'>\n",
      "Int64Index: 125000 entries, 1242397 to 1207071\n",
      "Columns: 186 entries, loan_amnt to settlement_status_COMPLETE\n",
      "dtypes: float64(112), int64(13), uint8(61)\n",
      "memory usage: 132.4 MB\n"
     ]
    }
   ],
   "source": [
    "all_accept_df.info()"
   ]
  },
  {
   "cell_type": "markdown",
   "metadata": {},
   "source": [
    "### Define function to evaluate tranche returns for pools"
   ]
  },
  {
   "cell_type": "code",
   "execution_count": 257,
   "metadata": {},
   "outputs": [],
   "source": [
    "def evaluatePools(pools):\n",
    "    total_loan_amnts = []\n",
    "    avg_int_rate = []\n",
    "    avg_dti = []\n",
    "    avg_fico_range_low = []\n",
    "    avg_fico_range_high = []\n",
    "    total_pymnts = []\n",
    "    total_rec_prncp = []\n",
    "    total_rec_int = []\n",
    "\n",
    "    senior_init_pymt = []\n",
    "    senior_total_pymt = []\n",
    "    senior_int = []\n",
    "\n",
    "    subordinate_init_pymt = []\n",
    "    subordinate_total_pymt = []\n",
    "    subordinate_int = []\n",
    "\n",
    "    equity_init_pymt = []\n",
    "    equity_total_pymt = []\n",
    "    equity_int = []\n",
    "\n",
    "    total_calc_pymnts = []\n",
    "    \n",
    "    for pool in pools:\n",
    "        total_loan_amnt = np.sum(pool['loan_amnt'])\n",
    "        total_pymt = np.sum(pool['total_pymnt'])\n",
    "        \n",
    "        total_loan_amnts.append(total_loan_amnt)\n",
    "        avg_int_rate.append(np.mean(pool['int_rate']))\n",
    "        avg_dti.append(np.mean(pool['dti']))\n",
    "        avg_fico_range_low.append(np.mean(pool['fico_range_low']))\n",
    "        avg_fico_range_high.append(np.mean(pool['fico_range_high']))\n",
    "        total_pymnts.append(total_pymt)\n",
    "        total_rec_prncp.append(np.sum(pool['total_rec_prncp']))\n",
    "        total_rec_int.append(np.sum(pool['total_rec_int']))\n",
    "\n",
    "        #senior tranche\n",
    "        init_pymt = senior_perc_contr*total_loan_amnt\n",
    "        senior_init_pymt.append(init_pymt)\n",
    "\n",
    "        total_sen_pymt = np.pmt(senior_ann_int/12, term, -senior_perc_contr*total_loan_amnt) * term\n",
    "        senior_total_pymt.append(total_sen_pymt)\n",
    "\n",
    "        if total_sen_pymt < total_pymt:\n",
    "            senior_int.append(senior_ann_int * 100)\n",
    "        else:\n",
    "            int_approx = np.rate(term, total_pymt / term, -init_pymt, 0) * 12 * 100\n",
    "            senior_int.append(int_approx)\n",
    "\n",
    "        #subordinate tranche\n",
    "        init_pymt = subordinate_perc_contr*total_loan_amnt\n",
    "        subordinate_init_pymt.append(init_pymt)\n",
    "\n",
    "        total_subordinate_pymt = np.pmt(subordinate_ann_int/12, term, -subordinate_perc_contr*total_loan_amnt) * term\n",
    "        subordinate_total_pymt.append(total_subordinate_pymt)\n",
    "\n",
    "        if (total_sen_pymt + total_subordinate_pymt) < total_pymt:\n",
    "            subordinate_int.append(subordinate_ann_int * 100)\n",
    "        else:\n",
    "            int_approx = np.rate(term, (total_pymt - total_sen_pymt) / term, -init_pymt, 0) * 12 * 100\n",
    "            subordinate_int.append(int_approx)\n",
    "\n",
    "        #equity tranche\n",
    "        init_pymt = equity_perc_contr*total_loan_amnt\n",
    "        equity_init_pymt.append(init_pymt)\n",
    "\n",
    "        total_equity_pymt = total_pymt - total_sen_pymt - total_subordinate_pymt\n",
    "        equity_total_pymt.append(total_equity_pymt)\n",
    "\n",
    "        int_approx = np.rate(36, 0, -init_pymt, total_equity_pymt) * 12 * 100\n",
    "        equity_int.append(int_approx)\n",
    "\n",
    "        #total calculated payments\n",
    "        total_calc_pymnts.append(total_sen_pymt+total_subordinate_pymt+total_equity_pymt)\n",
    "    \n",
    "    #create results data frame\n",
    "    list_of_tuples = list(zip(total_loan_amnts, avg_int_rate, avg_dti, avg_fico_range_low, avg_fico_range_high, total_pymnts, total_rec_prncp, total_rec_int, senior_init_pymt, senior_total_pymt, senior_int, subordinate_init_pymt, subordinate_total_pymt, subordinate_int, equity_init_pymt, equity_total_pymt, equity_int, total_calc_pymnts))\n",
    "\n",
    "    pool_results_df = pd.DataFrame(list_of_tuples,\n",
    "                                  columns = ['total_loan_amnts', 'avg_int_rate', 'avg_dti', 'avg_fico_range_low', 'avg_fico_range_high', 'total_pymnts', 'total_rec_prncp', 'total_rec_int', 'senior_init_pymt', 'senior_total_pymt', 'senior_int', 'subordinate_init_pymt', 'subordinate_total_pymt', 'subordinate_int', 'equity_init_pymt', 'equity_total_pymt', 'equity_int', 'total_calc_pymnts'])\n",
    "\n",
    "    return(pool_results_df)"
   ]
  },
  {
   "cell_type": "markdown",
   "metadata": {},
   "source": [
    "### Evaluate performance of randomly created pools"
   ]
  },
  {
   "cell_type": "code",
   "execution_count": 258,
   "metadata": {},
   "outputs": [
    {
     "name": "stdout",
     "output_type": "stream",
     "text": [
      "(25, 18)\n"
     ]
    },
    {
     "name": "stderr",
     "output_type": "stream",
     "text": [
      "/Users/kmanda/opt/anaconda3/lib/python3.7/site-packages/ipykernel_launcher.py:42: DeprecationWarning: numpy.pmt is deprecated and will be removed from NumPy 1.20. Use numpy_financial.pmt instead (https://pypi.org/project/numpy-financial/).\n",
      "/Users/kmanda/opt/anaconda3/lib/python3.7/site-packages/ipykernel_launcher.py:55: DeprecationWarning: numpy.pmt is deprecated and will be removed from NumPy 1.20. Use numpy_financial.pmt instead (https://pypi.org/project/numpy-financial/).\n",
      "/Users/kmanda/opt/anaconda3/lib/python3.7/site-packages/ipykernel_launcher.py:71: DeprecationWarning: numpy.rate is deprecated and will be removed from NumPy 1.20. Use numpy_financial.rate instead (https://pypi.org/project/numpy-financial/).\n"
     ]
    },
    {
     "data": {
      "text/html": [
       "<div>\n",
       "<style scoped>\n",
       "    .dataframe tbody tr th:only-of-type {\n",
       "        vertical-align: middle;\n",
       "    }\n",
       "\n",
       "    .dataframe tbody tr th {\n",
       "        vertical-align: top;\n",
       "    }\n",
       "\n",
       "    .dataframe thead th {\n",
       "        text-align: right;\n",
       "    }\n",
       "</style>\n",
       "<table border=\"1\" class=\"dataframe\">\n",
       "  <thead>\n",
       "    <tr style=\"text-align: right;\">\n",
       "      <th></th>\n",
       "      <th>total_loan_amnts</th>\n",
       "      <th>avg_int_rate</th>\n",
       "      <th>avg_dti</th>\n",
       "      <th>avg_fico_range_low</th>\n",
       "      <th>avg_fico_range_high</th>\n",
       "      <th>total_pymnts</th>\n",
       "      <th>total_rec_prncp</th>\n",
       "      <th>total_rec_int</th>\n",
       "      <th>senior_init_pymt</th>\n",
       "      <th>senior_total_pymt</th>\n",
       "      <th>senior_int</th>\n",
       "      <th>subordinate_init_pymt</th>\n",
       "      <th>subordinate_total_pymt</th>\n",
       "      <th>subordinate_int</th>\n",
       "      <th>equity_init_pymt</th>\n",
       "      <th>equity_total_pymt</th>\n",
       "      <th>equity_int</th>\n",
       "      <th>total_calc_pymnts</th>\n",
       "    </tr>\n",
       "  </thead>\n",
       "  <tbody>\n",
       "    <tr>\n",
       "      <th>0</th>\n",
       "      <td>64719750.0</td>\n",
       "      <td>11.540662</td>\n",
       "      <td>16.871000</td>\n",
       "      <td>696.958</td>\n",
       "      <td>700.9582</td>\n",
       "      <td>7.011797e+07</td>\n",
       "      <td>60141394.14</td>\n",
       "      <td>9308482.01</td>\n",
       "      <td>32359875.0</td>\n",
       "      <td>3.362222e+07</td>\n",
       "      <td>2.5</td>\n",
       "      <td>22651912.50</td>\n",
       "      <td>2.444033e+07</td>\n",
       "      <td>5.0</td>\n",
       "      <td>9707962.50</td>\n",
       "      <td>1.205542e+07</td>\n",
       "      <td>7.240688</td>\n",
       "      <td>7.011797e+07</td>\n",
       "    </tr>\n",
       "    <tr>\n",
       "      <th>1</th>\n",
       "      <td>64236175.0</td>\n",
       "      <td>11.572306</td>\n",
       "      <td>16.985218</td>\n",
       "      <td>696.290</td>\n",
       "      <td>700.2900</td>\n",
       "      <td>6.935512e+07</td>\n",
       "      <td>59452209.05</td>\n",
       "      <td>9242781.00</td>\n",
       "      <td>32118087.5</td>\n",
       "      <td>3.337100e+07</td>\n",
       "      <td>2.5</td>\n",
       "      <td>22482661.25</td>\n",
       "      <td>2.425772e+07</td>\n",
       "      <td>5.0</td>\n",
       "      <td>9635426.25</td>\n",
       "      <td>1.172641e+07</td>\n",
       "      <td>6.564446</td>\n",
       "      <td>6.935512e+07</td>\n",
       "    </tr>\n",
       "    <tr>\n",
       "      <th>2</th>\n",
       "      <td>63496475.0</td>\n",
       "      <td>11.554236</td>\n",
       "      <td>16.867690</td>\n",
       "      <td>696.059</td>\n",
       "      <td>700.0590</td>\n",
       "      <td>6.891336e+07</td>\n",
       "      <td>59171827.25</td>\n",
       "      <td>9153671.90</td>\n",
       "      <td>31748237.5</td>\n",
       "      <td>3.298672e+07</td>\n",
       "      <td>2.5</td>\n",
       "      <td>22223766.25</td>\n",
       "      <td>2.397838e+07</td>\n",
       "      <td>5.0</td>\n",
       "      <td>9524471.25</td>\n",
       "      <td>1.194826e+07</td>\n",
       "      <td>7.581223</td>\n",
       "      <td>6.891336e+07</td>\n",
       "    </tr>\n",
       "    <tr>\n",
       "      <th>3</th>\n",
       "      <td>64690275.0</td>\n",
       "      <td>11.634636</td>\n",
       "      <td>16.919946</td>\n",
       "      <td>696.807</td>\n",
       "      <td>700.8074</td>\n",
       "      <td>7.024256e+07</td>\n",
       "      <td>60264962.72</td>\n",
       "      <td>9352074.12</td>\n",
       "      <td>32345137.5</td>\n",
       "      <td>3.360691e+07</td>\n",
       "      <td>2.5</td>\n",
       "      <td>22641596.25</td>\n",
       "      <td>2.442920e+07</td>\n",
       "      <td>5.0</td>\n",
       "      <td>9703541.25</td>\n",
       "      <td>1.220645e+07</td>\n",
       "      <td>7.673549</td>\n",
       "      <td>7.024256e+07</td>\n",
       "    </tr>\n",
       "    <tr>\n",
       "      <th>4</th>\n",
       "      <td>64913900.0</td>\n",
       "      <td>11.484236</td>\n",
       "      <td>16.876624</td>\n",
       "      <td>696.296</td>\n",
       "      <td>700.2960</td>\n",
       "      <td>7.028982e+07</td>\n",
       "      <td>60342716.59</td>\n",
       "      <td>9335460.88</td>\n",
       "      <td>32456950.0</td>\n",
       "      <td>3.372308e+07</td>\n",
       "      <td>2.5</td>\n",
       "      <td>22719865.00</td>\n",
       "      <td>2.451365e+07</td>\n",
       "      <td>5.0</td>\n",
       "      <td>9737085.00</td>\n",
       "      <td>1.205309e+07</td>\n",
       "      <td>7.133752</td>\n",
       "      <td>7.028982e+07</td>\n",
       "    </tr>\n",
       "  </tbody>\n",
       "</table>\n",
       "</div>"
      ],
      "text/plain": [
       "   total_loan_amnts  avg_int_rate    avg_dti  avg_fico_range_low  \\\n",
       "0        64719750.0     11.540662  16.871000             696.958   \n",
       "1        64236175.0     11.572306  16.985218             696.290   \n",
       "2        63496475.0     11.554236  16.867690             696.059   \n",
       "3        64690275.0     11.634636  16.919946             696.807   \n",
       "4        64913900.0     11.484236  16.876624             696.296   \n",
       "\n",
       "   avg_fico_range_high  total_pymnts  total_rec_prncp  total_rec_int  \\\n",
       "0             700.9582  7.011797e+07      60141394.14     9308482.01   \n",
       "1             700.2900  6.935512e+07      59452209.05     9242781.00   \n",
       "2             700.0590  6.891336e+07      59171827.25     9153671.90   \n",
       "3             700.8074  7.024256e+07      60264962.72     9352074.12   \n",
       "4             700.2960  7.028982e+07      60342716.59     9335460.88   \n",
       "\n",
       "   senior_init_pymt  senior_total_pymt  senior_int  subordinate_init_pymt  \\\n",
       "0        32359875.0       3.362222e+07         2.5            22651912.50   \n",
       "1        32118087.5       3.337100e+07         2.5            22482661.25   \n",
       "2        31748237.5       3.298672e+07         2.5            22223766.25   \n",
       "3        32345137.5       3.360691e+07         2.5            22641596.25   \n",
       "4        32456950.0       3.372308e+07         2.5            22719865.00   \n",
       "\n",
       "   subordinate_total_pymt  subordinate_int  equity_init_pymt  \\\n",
       "0            2.444033e+07              5.0        9707962.50   \n",
       "1            2.425772e+07              5.0        9635426.25   \n",
       "2            2.397838e+07              5.0        9524471.25   \n",
       "3            2.442920e+07              5.0        9703541.25   \n",
       "4            2.451365e+07              5.0        9737085.00   \n",
       "\n",
       "   equity_total_pymt  equity_int  total_calc_pymnts  \n",
       "0       1.205542e+07    7.240688       7.011797e+07  \n",
       "1       1.172641e+07    6.564446       6.935512e+07  \n",
       "2       1.194826e+07    7.581223       6.891336e+07  \n",
       "3       1.220645e+07    7.673549       7.024256e+07  \n",
       "4       1.205309e+07    7.133752       7.028982e+07  "
      ]
     },
     "execution_count": 258,
     "metadata": {},
     "output_type": "execute_result"
    }
   ],
   "source": [
    "i=0\n",
    "pools = []\n",
    "\n",
    "while i < all_accept_df.shape[0]:\n",
    "    pools.append(pd.DataFrame(all_accept_df[i:i+poolSize]))\n",
    "    i = i + poolSize\n",
    "    \n",
    "pool_results_df = evaluatePools(pools)\n",
    "\n",
    "print(pool_results_df.shape)\n",
    "pool_results_df.head()"
   ]
  },
  {
   "cell_type": "code",
   "execution_count": 259,
   "metadata": {},
   "outputs": [
    {
     "name": "stdout",
     "output_type": "stream",
     "text": [
      "Total pools\n"
     ]
    },
    {
     "data": {
      "text/plain": [
       "25"
      ]
     },
     "execution_count": 259,
     "metadata": {},
     "output_type": "execute_result"
    }
   ],
   "source": [
    "print('Total pools')\n",
    "pool_results_df.shape[0]"
   ]
  },
  {
   "cell_type": "code",
   "execution_count": 260,
   "metadata": {},
   "outputs": [
    {
     "name": "stdout",
     "output_type": "stream",
     "text": [
      "Avg. pool size($)\n"
     ]
    },
    {
     "data": {
      "text/plain": [
       "64129985.0"
      ]
     },
     "execution_count": 260,
     "metadata": {},
     "output_type": "execute_result"
    }
   ],
   "source": [
    "print('Avg. pool size($)')\n",
    "pool_results_df.total_loan_amnts.mean()"
   ]
  },
  {
   "cell_type": "code",
   "execution_count": 261,
   "metadata": {},
   "outputs": [
    {
     "name": "stdout",
     "output_type": "stream",
     "text": [
      "Avg. pool interest rate\n"
     ]
    },
    {
     "data": {
      "text/plain": [
       "11.530926079999835"
      ]
     },
     "execution_count": 261,
     "metadata": {},
     "output_type": "execute_result"
    }
   ],
   "source": [
    "print('Avg. pool interest rate')\n",
    "pool_results_df.avg_int_rate.mean()"
   ]
  },
  {
   "cell_type": "code",
   "execution_count": 262,
   "metadata": {},
   "outputs": [
    {
     "name": "stdout",
     "output_type": "stream",
     "text": [
      "Avg. DTI\n"
     ]
    },
    {
     "data": {
      "text/plain": [
       "16.924150000000008"
      ]
     },
     "execution_count": 262,
     "metadata": {},
     "output_type": "execute_result"
    }
   ],
   "source": [
    "print('Avg. DTI')\n",
    "pool_results_df.avg_dti.mean()"
   ]
  },
  {
   "cell_type": "code",
   "execution_count": 263,
   "metadata": {},
   "outputs": [
    {
     "name": "stdout",
     "output_type": "stream",
     "text": [
      "Avg. Fico low\n"
     ]
    },
    {
     "data": {
      "text/plain": [
       "696.4962"
      ]
     },
     "execution_count": 263,
     "metadata": {},
     "output_type": "execute_result"
    }
   ],
   "source": [
    "print('Avg. Fico low')\n",
    "pool_results_df.avg_fico_range_low.mean()"
   ]
  },
  {
   "cell_type": "code",
   "execution_count": 264,
   "metadata": {},
   "outputs": [
    {
     "name": "stdout",
     "output_type": "stream",
     "text": [
      "Avg. Fico high\n"
     ]
    },
    {
     "data": {
      "text/plain": [
       "700.496256"
      ]
     },
     "execution_count": 264,
     "metadata": {},
     "output_type": "execute_result"
    }
   ],
   "source": [
    "print('Avg. Fico high')\n",
    "pool_results_df.avg_fico_range_high.mean()"
   ]
  },
  {
   "cell_type": "code",
   "execution_count": 265,
   "metadata": {},
   "outputs": [
    {
     "name": "stdout",
     "output_type": "stream",
     "text": [
      "Avg. total recovered principal\n"
     ]
    },
    {
     "data": {
      "text/plain": [
       "59593507.57440001"
      ]
     },
     "execution_count": 265,
     "metadata": {},
     "output_type": "execute_result"
    }
   ],
   "source": [
    "print('Avg. total recovered principal')\n",
    "pool_results_df.total_rec_prncp.mean()"
   ]
  },
  {
   "cell_type": "code",
   "execution_count": 266,
   "metadata": {},
   "outputs": [
    {
     "name": "stdout",
     "output_type": "stream",
     "text": [
      "Avg. total recovered interest\n"
     ]
    },
    {
     "data": {
      "text/plain": [
       "9244422.062000003"
      ]
     },
     "execution_count": 266,
     "metadata": {},
     "output_type": "execute_result"
    }
   ],
   "source": [
    "print('Avg. total recovered interest')\n",
    "pool_results_df.total_rec_int.mean()"
   ]
  },
  {
   "cell_type": "code",
   "execution_count": 267,
   "metadata": {},
   "outputs": [
    {
     "name": "stdout",
     "output_type": "stream",
     "text": [
      "Avg. senior tranche return\n"
     ]
    },
    {
     "data": {
      "text/plain": [
       "2.5"
      ]
     },
     "execution_count": 267,
     "metadata": {},
     "output_type": "execute_result"
    }
   ],
   "source": [
    "print('Avg. senior tranche return')\n",
    "pool_results_df.senior_int.mean()"
   ]
  },
  {
   "cell_type": "code",
   "execution_count": 268,
   "metadata": {},
   "outputs": [
    {
     "name": "stdout",
     "output_type": "stream",
     "text": [
      "Avg. subordinate tranche return\n"
     ]
    },
    {
     "data": {
      "text/plain": [
       "5.0"
      ]
     },
     "execution_count": 268,
     "metadata": {},
     "output_type": "execute_result"
    }
   ],
   "source": [
    "print('Avg. subordinate tranche return')\n",
    "pool_results_df.subordinate_int.mean()"
   ]
  },
  {
   "cell_type": "code",
   "execution_count": 269,
   "metadata": {},
   "outputs": [
    {
     "name": "stdout",
     "output_type": "stream",
     "text": [
      "Avg. equity tranche return\n"
     ]
    },
    {
     "data": {
      "text/plain": [
       "7.190065681325579"
      ]
     },
     "execution_count": 269,
     "metadata": {},
     "output_type": "execute_result"
    }
   ],
   "source": [
    "print('Avg. equity tranche return')\n",
    "pool_results_df.equity_int.mean()"
   ]
  },
  {
   "cell_type": "code",
   "execution_count": 270,
   "metadata": {},
   "outputs": [
    {
     "name": "stdout",
     "output_type": "stream",
     "text": [
      "WtAvg. pool return\n"
     ]
    },
    {
     "data": {
      "text/plain": [
       "4.078509852198836"
      ]
     },
     "execution_count": 270,
     "metadata": {},
     "output_type": "execute_result"
    }
   ],
   "source": [
    "print('WtAvg. pool return')\n",
    "senior_perc_contr*pool_results_df.senior_int.mean() + subordinate_perc_contr*pool_results_df.subordinate_int.mean() + equity_perc_contr*pool_results_df.equity_int.mean()"
   ]
  },
  {
   "cell_type": "markdown",
   "metadata": {},
   "source": [
    "### Data visualization"
   ]
  },
  {
   "cell_type": "code",
   "execution_count": 50,
   "metadata": {},
   "outputs": [
    {
     "data": {
      "text/plain": [
       "<matplotlib.legend.Legend at 0x7fc23aeee3d0>"
      ]
     },
     "execution_count": 50,
     "metadata": {},
     "output_type": "execute_result"
    },
    {
     "data": {
      "image/png": "[encoded data removed]",
      "text/plain": [
       "<Figure size 1008x864 with 1 Axes>"
      ]
     },
     "metadata": {
      "needs_background": "light"
     },
     "output_type": "display_data"
    }
   ],
   "source": [
    "plt = pool_results_df.plot(y=[\"senior_int\", \"subordinate_int\", \"equity_int\"], kind=\"bar\", figsize=(14, 12))\n",
    "plt.legend([\"Senior tranche interest rate\", \"Subordinate tranche interest rate\", \"Equity tranche interest rate\"])\n"
   ]
  }
 ],
 "metadata": {
  "kernelspec": {
   "display_name": "Python 3",
   "language": "python",
   "name": "python3"
  },
  "language_info": {
   "codemirror_mode": {
    "name": "ipython",
    "version": 3
   },
   "file_extension": ".py",
   "mimetype": "text/x-python",
   "name": "python",
   "nbconvert_exporter": "python",
   "pygments_lexer": "ipython3",
   "version": "3.7.6"
  }
 },
 "nbformat": 4,
 "nbformat_minor": 4
}
