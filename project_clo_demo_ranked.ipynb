{
 "cells": [
  {
   "cell_type": "code",
   "execution_count": 220,
   "metadata": {},
   "outputs": [],
   "source": [
    "import re\n",
    "import os\n",
    "\n",
    "import pandas as pd\n",
    "import numpy as np\n",
    "import seaborn as sns\n",
    "import matplotlib.pyplot as plt\n",
    "\n",
    "import datetime as dt\n",
    "\n",
    "from sklearn import model_selection\n",
    "\n",
    "from sklearn.metrics import confusion_matrix\n",
    "\n",
    "%matplotlib inline "
   ]
  },
  {
   "cell_type": "markdown",
   "metadata": {},
   "source": [
    "### Constants"
   ]
  },
  {
   "cell_type": "code",
   "execution_count": 221,
   "metadata": {},
   "outputs": [],
   "source": [
    "poolSize = 5000\n",
    "\n",
    "senior_perc_contr = 0.5\n",
    "senior_ann_int = 0.03\n",
    "\n",
    "subordinate_perc_contr = 0.35\n",
    "subordinate_ann_int = 0.06\n",
    "\n",
    "equity_perc_contr = 0.15\n",
    "\n",
    "year = 2014\n",
    "term = 36"
   ]
  },
  {
   "cell_type": "markdown",
   "metadata": {},
   "source": [
    "### Load models"
   ]
  },
  {
   "cell_type": "code",
   "execution_count": 222,
   "metadata": {},
   "outputs": [],
   "source": [
    "import xgboost as xgb\n",
    "from sklearn.metrics import mean_squared_error\n",
    "\n",
    "xgbModel = xgb.Booster({'nthread': 4})  # init model\n",
    "xgbModel.load_model('xgb_best_model')  # load data"
   ]
  },
  {
   "cell_type": "code",
   "execution_count": 223,
   "metadata": {},
   "outputs": [],
   "source": [
    "from tensorflow import keras\n",
    "kerasModel = keras.models.load_model('keras_model')"
   ]
  },
  {
   "cell_type": "markdown",
   "metadata": {},
   "source": [
    "### Load model results"
   ]
  },
  {
   "cell_type": "code",
   "execution_count": 224,
   "metadata": {},
   "outputs": [],
   "source": [
    "predicted_good_loan_ids = set()"
   ]
  },
  {
   "cell_type": "code",
   "execution_count": 225,
   "metadata": {},
   "outputs": [],
   "source": [
    "xgb_results_df = pd.read_csv('all_accept_xgb_df.csv') \n",
    "\n",
    "for i in range(len(xgb_results_df)):\n",
    "    if xgb_results_df.loc[i, \"predicted_val\"] == 1:\n",
    "        predicted_good_loan_ids.add(xgb_results_df.loc[i, \"id\"])"
   ]
  },
  {
   "cell_type": "code",
   "execution_count": 226,
   "metadata": {},
   "outputs": [],
   "source": [
    "keras_results_df = pd.read_csv('all_accept_keras_df.csv') \n",
    "\n",
    "for i in range(len(keras_results_df)):\n",
    "    if keras_results_df.loc[i, \"predicted_val\"] == 1:\n",
    "        predicted_good_loan_ids.add(keras_results_df.loc[i, \"id\"])"
   ]
  },
  {
   "cell_type": "markdown",
   "metadata": {},
   "source": [
    "### Data analysis"
   ]
  },
  {
   "cell_type": "code",
   "execution_count": 227,
   "metadata": {},
   "outputs": [
    {
     "name": "stderr",
     "output_type": "stream",
     "text": [
      "/Users/kmanda/opt/anaconda3/lib/python3.7/site-packages/IPython/core/interactiveshell.py:3063: DtypeWarning: Columns (0,19,49,59,118,129,130,131,134,135,136,139,145,146,147) have mixed types.Specify dtype option on import or set low_memory=False.\n",
      "  interactivity=interactivity, compiler=compiler, result=result)\n"
     ]
    }
   ],
   "source": [
    "# all accepted loans from lendingclub\n",
    "all_accept_df = pd.read_csv('./archive/accepted_2007_to_2018q4.csv')"
   ]
  },
  {
   "cell_type": "code",
   "execution_count": 228,
   "metadata": {},
   "outputs": [
    {
     "data": {
      "text/plain": [
       "(2260701, 151)"
      ]
     },
     "execution_count": 228,
     "metadata": {},
     "output_type": "execute_result"
    }
   ],
   "source": [
    "all_accept_df.shape"
   ]
  },
  {
   "cell_type": "code",
   "execution_count": 229,
   "metadata": {},
   "outputs": [],
   "source": [
    "all_accept_df = all_accept_df[all_accept_df['id'].isin(predicted_good_loan_ids)]"
   ]
  },
  {
   "cell_type": "code",
   "execution_count": 230,
   "metadata": {},
   "outputs": [
    {
     "data": {
      "text/plain": [
       "(1929988, 151)"
      ]
     },
     "execution_count": 230,
     "metadata": {},
     "output_type": "execute_result"
    }
   ],
   "source": [
    "all_accept_df.shape"
   ]
  },
  {
   "cell_type": "code",
   "execution_count": 231,
   "metadata": {},
   "outputs": [
    {
     "data": {
      "text/plain": [
       "array(['Fully Paid', 'Current', 'Charged Off', 'In Grace Period',\n",
       "       'Late (31-120 days)', 'Late (16-30 days)', 'Default'], dtype=object)"
      ]
     },
     "execution_count": 231,
     "metadata": {},
     "output_type": "execute_result"
    }
   ],
   "source": [
    "# drop invalid loan_status to 'Unknown'\n",
    "\n",
    "all_accept_df.loc[pd.isnull(all_accept_df['loan_status']),'loan_status'] = 'Unknown'\n",
    "\n",
    "all_accept_df.loan_status.unique()"
   ]
  },
  {
   "cell_type": "code",
   "execution_count": 232,
   "metadata": {
    "scrolled": true
   },
   "outputs": [
    {
     "name": "stderr",
     "output_type": "stream",
     "text": [
      "/Users/kmanda/opt/anaconda3/lib/python3.7/site-packages/ipykernel_launcher.py:5: SettingWithCopyWarning: \n",
      "A value is trying to be set on a copy of a slice from a DataFrame\n",
      "\n",
      "See the caveats in the documentation: https://pandas.pydata.org/pandas-docs/stable/user_guide/indexing.html#returning-a-view-versus-a-copy\n",
      "  \"\"\"\n",
      "/Users/kmanda/opt/anaconda3/lib/python3.7/site-packages/ipykernel_launcher.py:7: SettingWithCopyWarning: \n",
      "A value is trying to be set on a copy of a slice from a DataFrame\n",
      "\n",
      "See the caveats in the documentation: https://pandas.pydata.org/pandas-docs/stable/user_guide/indexing.html#returning-a-view-versus-a-copy\n",
      "  import sys\n"
     ]
    }
   ],
   "source": [
    "loan_status = all_accept_df['loan_status']\n",
    "\n",
    "loan_status[(loan_status=='Fully Paid') | (loan_status=='Current') |\n",
    "            (loan_status=='Does not meet the credit policy. Status:Fully Paid') |\n",
    "            (loan_status=='In Grace Period')] = 1\n",
    "\n",
    "loan_status[loan_status != 1] = 0\n",
    "\n",
    "all_accept_df['loan_status'] = pd.to_numeric(loan_status)"
   ]
  },
  {
   "cell_type": "code",
   "execution_count": 233,
   "metadata": {},
   "outputs": [],
   "source": [
    "# convert column to numeric\n",
    "\n",
    "all_accept_df['term'] = pd.to_numeric(all_accept_df['term'].apply(lambda x: re.findall(r'\\d+', str(x))).str[0])\n",
    "all_accept_df['deferral_term'] = pd.to_numeric(all_accept_df['deferral_term'])"
   ]
  },
  {
   "cell_type": "code",
   "execution_count": 234,
   "metadata": {},
   "outputs": [],
   "source": [
    "# filter dataframe by year and term months \n",
    "# so as to create pools of poolSize\n",
    "\n",
    "all_accept_df = all_accept_df[pd.DatetimeIndex(all_accept_df['issue_d']).year == year]\n",
    "all_accept_df = all_accept_df[all_accept_df['term'] == term]\n",
    "\n",
    "sampleSize = int(all_accept_df.shape[0] / poolSize) * poolSize\n",
    "\n",
    "all_accept_df = all_accept_df.sample(sampleSize)"
   ]
  },
  {
   "cell_type": "code",
   "execution_count": 235,
   "metadata": {},
   "outputs": [],
   "source": [
    "def ConvertDateTimeToOrdinal(d):\n",
    "    if d is pd.NaT:\n",
    "        return 0\n",
    "    else:\n",
    "        return d.toordinal()"
   ]
  },
  {
   "cell_type": "code",
   "execution_count": 236,
   "metadata": {},
   "outputs": [],
   "source": [
    "# convert columns to datetime (toordinal)\n",
    "\n",
    "dateCols = pd.Series(\n",
    "    ['issue_d',\n",
    "    'earliest_cr_line',\n",
    "    'last_pymnt_d',\n",
    "    'next_pymnt_d',\n",
    "    'last_credit_pull_d',\n",
    "    'debt_settlement_flag_date',\n",
    "    'settlement_date',\n",
    "    'hardship_start_date',\n",
    "    'hardship_end_date',\n",
    "    'payment_plan_start_date',\n",
    "    'sec_app_earliest_cr_line'])\n",
    "\n",
    "for col in dateCols:    \n",
    "    all_accept_df[col] = pd.to_datetime(all_accept_df[col]).apply(ConvertDateTimeToOrdinal)"
   ]
  },
  {
   "cell_type": "code",
   "execution_count": 237,
   "metadata": {},
   "outputs": [],
   "source": [
    "# drop columns to be ignore for now\n",
    "\n",
    "all_accept_df = all_accept_df.drop([\n",
    "    'id',\n",
    "    'member_id',\n",
    "    'emp_title',\n",
    "    'emp_length',\n",
    "    'home_ownership',\n",
    "    'url',\n",
    "    'desc',\n",
    "    'title',\n",
    "    'zip_code',\n",
    "    'addr_state',\n",
    "    'initial_list_status',\n",
    "    'verification_status_joint',  \n",
    "    'hardship_type',\n",
    "    'hardship_reason',\n",
    "    'disbursement_method'\n",
    "], axis=1)"
   ]
  },
  {
   "cell_type": "code",
   "execution_count": 238,
   "metadata": {},
   "outputs": [],
   "source": [
    "# Dummify\n",
    "\n",
    "colsToBeDummified = pd.Series(\n",
    "    ['grade',\n",
    "    'sub_grade',\n",
    "    'verification_status',\n",
    "    'purpose',\n",
    "    'pymnt_plan',\n",
    "    'application_type',\n",
    "    'hardship_flag',\n",
    "    'hardship_status',\n",
    "    'hardship_loan_status',\n",
    "    'debt_settlement_flag',\n",
    "    'settlement_status'])\n",
    "\n",
    "for col in colsToBeDummified:    \n",
    "    all_accept_df = all_accept_df.join(pd.get_dummies(all_accept_df[col], drop_first=True, prefix=col))\n",
    "    all_accept_df = all_accept_df.drop(col, axis=1)"
   ]
  },
  {
   "cell_type": "code",
   "execution_count": 239,
   "metadata": {},
   "outputs": [],
   "source": [
    "# handle na\n",
    "\n",
    "all_accept_df.fillna(0, inplace=True)"
   ]
  },
  {
   "cell_type": "code",
   "execution_count": 240,
   "metadata": {},
   "outputs": [],
   "source": [
    "# make sure all columns are numeric\n",
    "\n",
    "for col in all_accept_df.columns:\n",
    "    all_accept_df[col] = pd.to_numeric(all_accept_df[col])"
   ]
  },
  {
   "cell_type": "code",
   "execution_count": 241,
   "metadata": {},
   "outputs": [
    {
     "name": "stdout",
     "output_type": "stream",
     "text": [
      "<class 'pandas.core.frame.DataFrame'>\n",
      "Int64Index: 140000 entries, 1147126 to 1165484\n",
      "Columns: 186 entries, loan_amnt to settlement_status_COMPLETE\n",
      "dtypes: float64(112), int64(13), uint8(61)\n",
      "memory usage: 147.7 MB\n"
     ]
    }
   ],
   "source": [
    "all_accept_df.info()"
   ]
  },
  {
   "cell_type": "markdown",
   "metadata": {},
   "source": [
    "### Define function to evaluate tranche returns for pools"
   ]
  },
  {
   "cell_type": "code",
   "execution_count": 242,
   "metadata": {},
   "outputs": [],
   "source": [
    "def evaluatePools(pools):\n",
    "    total_loan_amnts = []\n",
    "    avg_int_rate = []\n",
    "    avg_dti = []\n",
    "    avg_fico_range_low = []\n",
    "    avg_fico_range_high = []\n",
    "    total_pymnts = []\n",
    "    total_rec_prncp = []\n",
    "    total_rec_int = []\n",
    "\n",
    "    senior_init_pymt = []\n",
    "    senior_total_pymt = []\n",
    "    senior_int = []\n",
    "\n",
    "    subordinate_init_pymt = []\n",
    "    subordinate_total_pymt = []\n",
    "    subordinate_int = []\n",
    "\n",
    "    equity_init_pymt = []\n",
    "    equity_total_pymt = []\n",
    "    equity_int = []\n",
    "\n",
    "    total_calc_pymnts = []\n",
    "    \n",
    "    for pool in pools:\n",
    "        total_loan_amnt = np.sum(pool['loan_amnt'])\n",
    "        total_pymt = np.sum(pool['total_pymnt'])\n",
    "        \n",
    "        total_loan_amnts.append(total_loan_amnt)\n",
    "        avg_int_rate.append(np.mean(pool['int_rate']))\n",
    "        avg_dti.append(np.mean(pool['dti']))\n",
    "        avg_fico_range_low.append(np.mean(pool['fico_range_low']))\n",
    "        avg_fico_range_high.append(np.mean(pool['fico_range_high']))\n",
    "        total_pymnts.append(total_pymt)\n",
    "        total_rec_prncp.append(np.sum(pool['total_rec_prncp']))\n",
    "        total_rec_int.append(np.sum(pool['total_rec_int']))\n",
    "\n",
    "        #senior tranche\n",
    "        init_pymt = senior_perc_contr*total_loan_amnt\n",
    "        senior_init_pymt.append(init_pymt)\n",
    "\n",
    "        total_sen_pymt = np.pmt(senior_ann_int/12, term, -senior_perc_contr*total_loan_amnt) * term\n",
    "        senior_total_pymt.append(total_sen_pymt)\n",
    "\n",
    "        if total_sen_pymt < total_pymt:\n",
    "            senior_int.append(senior_ann_int * 100)\n",
    "        else:\n",
    "            int_approx = np.rate(term, total_pymt / term, -init_pymt, 0) * 12 * 100\n",
    "            senior_int.append(int_approx)\n",
    "\n",
    "        #subordinate tranche\n",
    "        init_pymt = subordinate_perc_contr*total_loan_amnt\n",
    "        subordinate_init_pymt.append(init_pymt)\n",
    "\n",
    "        total_subordinate_pymt = np.pmt(subordinate_ann_int/12, term, -subordinate_perc_contr*total_loan_amnt) * term\n",
    "        subordinate_total_pymt.append(total_subordinate_pymt)\n",
    "\n",
    "        if (total_sen_pymt + total_subordinate_pymt) < total_pymt:\n",
    "            subordinate_int.append(subordinate_ann_int * 100)\n",
    "        else:\n",
    "            int_approx = np.rate(term, (total_pymt - total_sen_pymt) / term, -init_pymt, 0) * 12 * 100\n",
    "            subordinate_int.append(int_approx)\n",
    "\n",
    "        #equity tranche\n",
    "        init_pymt = equity_perc_contr*total_loan_amnt\n",
    "        equity_init_pymt.append(init_pymt)\n",
    "\n",
    "        total_equity_pymt = total_pymt - total_sen_pymt - total_subordinate_pymt\n",
    "        equity_total_pymt.append(total_equity_pymt)\n",
    "\n",
    "        int_approx = np.rate(36, 0, -init_pymt, total_equity_pymt) * 12 * 100\n",
    "        equity_int.append(int_approx)\n",
    "\n",
    "        #total calculated payments\n",
    "        total_calc_pymnts.append(total_sen_pymt+total_subordinate_pymt+total_equity_pymt)\n",
    "    \n",
    "    #create results data frame\n",
    "    list_of_tuples = list(zip(total_loan_amnts, avg_int_rate, avg_dti, avg_fico_range_low, avg_fico_range_high, total_pymnts, total_rec_prncp, total_rec_int, senior_init_pymt, senior_total_pymt, senior_int, subordinate_init_pymt, subordinate_total_pymt, subordinate_int, equity_init_pymt, equity_total_pymt, equity_int, total_calc_pymnts))\n",
    "\n",
    "    pool_results_df = pd.DataFrame(list_of_tuples,\n",
    "                                  columns = ['total_loan_amnts', 'avg_int_rate', 'avg_dti', 'avg_fico_range_low', 'avg_fico_range_high', 'total_pymnts', 'total_rec_prncp', 'total_rec_int', 'senior_init_pymt', 'senior_total_pymt', 'senior_int', 'subordinate_init_pymt', 'subordinate_total_pymt', 'subordinate_int', 'equity_init_pymt', 'equity_total_pymt', 'equity_int', 'total_calc_pymnts'])\n",
    "\n",
    "    return(pool_results_df)"
   ]
  },
  {
   "cell_type": "markdown",
   "metadata": {},
   "source": [
    "### Evaluate performance of randomly created pools"
   ]
  },
  {
   "cell_type": "code",
   "execution_count": 243,
   "metadata": {},
   "outputs": [
    {
     "name": "stdout",
     "output_type": "stream",
     "text": [
      "(28, 18)\n"
     ]
    },
    {
     "name": "stderr",
     "output_type": "stream",
     "text": [
      "/Users/kmanda/opt/anaconda3/lib/python3.7/site-packages/ipykernel_launcher.py:42: DeprecationWarning: numpy.pmt is deprecated and will be removed from NumPy 1.20. Use numpy_financial.pmt instead (https://pypi.org/project/numpy-financial/).\n",
      "/Users/kmanda/opt/anaconda3/lib/python3.7/site-packages/ipykernel_launcher.py:55: DeprecationWarning: numpy.pmt is deprecated and will be removed from NumPy 1.20. Use numpy_financial.pmt instead (https://pypi.org/project/numpy-financial/).\n",
      "/Users/kmanda/opt/anaconda3/lib/python3.7/site-packages/ipykernel_launcher.py:71: DeprecationWarning: numpy.rate is deprecated and will be removed from NumPy 1.20. Use numpy_financial.rate instead (https://pypi.org/project/numpy-financial/).\n"
     ]
    },
    {
     "data": {
      "text/html": [
       "<div>\n",
       "<style scoped>\n",
       "    .dataframe tbody tr th:only-of-type {\n",
       "        vertical-align: middle;\n",
       "    }\n",
       "\n",
       "    .dataframe tbody tr th {\n",
       "        vertical-align: top;\n",
       "    }\n",
       "\n",
       "    .dataframe thead th {\n",
       "        text-align: right;\n",
       "    }\n",
       "</style>\n",
       "<table border=\"1\" class=\"dataframe\">\n",
       "  <thead>\n",
       "    <tr style=\"text-align: right;\">\n",
       "      <th></th>\n",
       "      <th>total_loan_amnts</th>\n",
       "      <th>avg_int_rate</th>\n",
       "      <th>avg_dti</th>\n",
       "      <th>avg_fico_range_low</th>\n",
       "      <th>avg_fico_range_high</th>\n",
       "      <th>total_pymnts</th>\n",
       "      <th>total_rec_prncp</th>\n",
       "      <th>total_rec_int</th>\n",
       "      <th>senior_init_pymt</th>\n",
       "      <th>senior_total_pymt</th>\n",
       "      <th>senior_int</th>\n",
       "      <th>subordinate_init_pymt</th>\n",
       "      <th>subordinate_total_pymt</th>\n",
       "      <th>subordinate_int</th>\n",
       "      <th>equity_init_pymt</th>\n",
       "      <th>equity_total_pymt</th>\n",
       "      <th>equity_int</th>\n",
       "      <th>total_calc_pymnts</th>\n",
       "    </tr>\n",
       "  </thead>\n",
       "  <tbody>\n",
       "    <tr>\n",
       "      <th>0</th>\n",
       "      <td>64126700.0</td>\n",
       "      <td>12.157738</td>\n",
       "      <td>17.268876</td>\n",
       "      <td>693.987</td>\n",
       "      <td>697.9870</td>\n",
       "      <td>7.401387e+07</td>\n",
       "      <td>64036484.38</td>\n",
       "      <td>9937567.37</td>\n",
       "      <td>32063350.0</td>\n",
       "      <td>3.356788e+07</td>\n",
       "      <td>3.0</td>\n",
       "      <td>22444345.00</td>\n",
       "      <td>2.458082e+07</td>\n",
       "      <td>6.0</td>\n",
       "      <td>9619005.00</td>\n",
       "      <td>1.586518e+07</td>\n",
       "      <td>16.795987</td>\n",
       "      <td>7.401387e+07</td>\n",
       "    </tr>\n",
       "    <tr>\n",
       "      <th>1</th>\n",
       "      <td>64600550.0</td>\n",
       "      <td>12.128360</td>\n",
       "      <td>16.999706</td>\n",
       "      <td>693.795</td>\n",
       "      <td>697.7952</td>\n",
       "      <td>7.467593e+07</td>\n",
       "      <td>64486967.40</td>\n",
       "      <td>10113307.57</td>\n",
       "      <td>32300275.0</td>\n",
       "      <td>3.381592e+07</td>\n",
       "      <td>3.0</td>\n",
       "      <td>22610192.50</td>\n",
       "      <td>2.476245e+07</td>\n",
       "      <td>6.0</td>\n",
       "      <td>9690082.50</td>\n",
       "      <td>1.609756e+07</td>\n",
       "      <td>17.038651</td>\n",
       "      <td>7.467593e+07</td>\n",
       "    </tr>\n",
       "    <tr>\n",
       "      <th>2</th>\n",
       "      <td>63211125.0</td>\n",
       "      <td>12.197334</td>\n",
       "      <td>17.277350</td>\n",
       "      <td>693.640</td>\n",
       "      <td>697.6400</td>\n",
       "      <td>7.309885e+07</td>\n",
       "      <td>63113272.30</td>\n",
       "      <td>9915038.15</td>\n",
       "      <td>31605562.5</td>\n",
       "      <td>3.308861e+07</td>\n",
       "      <td>3.0</td>\n",
       "      <td>22123893.75</td>\n",
       "      <td>2.422986e+07</td>\n",
       "      <td>6.0</td>\n",
       "      <td>9481668.75</td>\n",
       "      <td>1.578038e+07</td>\n",
       "      <td>17.100950</td>\n",
       "      <td>7.309885e+07</td>\n",
       "    </tr>\n",
       "    <tr>\n",
       "      <th>3</th>\n",
       "      <td>62276400.0</td>\n",
       "      <td>12.245342</td>\n",
       "      <td>17.408622</td>\n",
       "      <td>693.283</td>\n",
       "      <td>697.2830</td>\n",
       "      <td>7.207163e+07</td>\n",
       "      <td>62142670.37</td>\n",
       "      <td>9837313.22</td>\n",
       "      <td>31138200.0</td>\n",
       "      <td>3.259931e+07</td>\n",
       "      <td>3.0</td>\n",
       "      <td>21796740.00</td>\n",
       "      <td>2.387157e+07</td>\n",
       "      <td>6.0</td>\n",
       "      <td>9341460.00</td>\n",
       "      <td>1.560075e+07</td>\n",
       "      <td>17.217566</td>\n",
       "      <td>7.207163e+07</td>\n",
       "    </tr>\n",
       "    <tr>\n",
       "      <th>4</th>\n",
       "      <td>62134300.0</td>\n",
       "      <td>12.127230</td>\n",
       "      <td>17.262820</td>\n",
       "      <td>694.377</td>\n",
       "      <td>698.3770</td>\n",
       "      <td>7.189919e+07</td>\n",
       "      <td>62003570.49</td>\n",
       "      <td>9818404.62</td>\n",
       "      <td>31067150.0</td>\n",
       "      <td>3.252493e+07</td>\n",
       "      <td>3.0</td>\n",
       "      <td>21747005.00</td>\n",
       "      <td>2.381710e+07</td>\n",
       "      <td>6.0</td>\n",
       "      <td>9320145.00</td>\n",
       "      <td>1.555716e+07</td>\n",
       "      <td>17.200203</td>\n",
       "      <td>7.189919e+07</td>\n",
       "    </tr>\n",
       "  </tbody>\n",
       "</table>\n",
       "</div>"
      ],
      "text/plain": [
       "   total_loan_amnts  avg_int_rate    avg_dti  avg_fico_range_low  \\\n",
       "0        64126700.0     12.157738  17.268876             693.987   \n",
       "1        64600550.0     12.128360  16.999706             693.795   \n",
       "2        63211125.0     12.197334  17.277350             693.640   \n",
       "3        62276400.0     12.245342  17.408622             693.283   \n",
       "4        62134300.0     12.127230  17.262820             694.377   \n",
       "\n",
       "   avg_fico_range_high  total_pymnts  total_rec_prncp  total_rec_int  \\\n",
       "0             697.9870  7.401387e+07      64036484.38     9937567.37   \n",
       "1             697.7952  7.467593e+07      64486967.40    10113307.57   \n",
       "2             697.6400  7.309885e+07      63113272.30     9915038.15   \n",
       "3             697.2830  7.207163e+07      62142670.37     9837313.22   \n",
       "4             698.3770  7.189919e+07      62003570.49     9818404.62   \n",
       "\n",
       "   senior_init_pymt  senior_total_pymt  senior_int  subordinate_init_pymt  \\\n",
       "0        32063350.0       3.356788e+07         3.0            22444345.00   \n",
       "1        32300275.0       3.381592e+07         3.0            22610192.50   \n",
       "2        31605562.5       3.308861e+07         3.0            22123893.75   \n",
       "3        31138200.0       3.259931e+07         3.0            21796740.00   \n",
       "4        31067150.0       3.252493e+07         3.0            21747005.00   \n",
       "\n",
       "   subordinate_total_pymt  subordinate_int  equity_init_pymt  \\\n",
       "0            2.458082e+07              6.0        9619005.00   \n",
       "1            2.476245e+07              6.0        9690082.50   \n",
       "2            2.422986e+07              6.0        9481668.75   \n",
       "3            2.387157e+07              6.0        9341460.00   \n",
       "4            2.381710e+07              6.0        9320145.00   \n",
       "\n",
       "   equity_total_pymt  equity_int  total_calc_pymnts  \n",
       "0       1.586518e+07   16.795987       7.401387e+07  \n",
       "1       1.609756e+07   17.038651       7.467593e+07  \n",
       "2       1.578038e+07   17.100950       7.309885e+07  \n",
       "3       1.560075e+07   17.217566       7.207163e+07  \n",
       "4       1.555716e+07   17.200203       7.189919e+07  "
      ]
     },
     "execution_count": 243,
     "metadata": {},
     "output_type": "execute_result"
    }
   ],
   "source": [
    "i=0\n",
    "pools = []\n",
    "\n",
    "while i < all_accept_df.shape[0]:\n",
    "    pools.append(pd.DataFrame(all_accept_df[i:i+poolSize]))\n",
    "    i = i + poolSize\n",
    "    \n",
    "pool_results_df = evaluatePools(pools)\n",
    "\n",
    "print(pool_results_df.shape)\n",
    "pool_results_df.head()"
   ]
  },
  {
   "cell_type": "markdown",
   "metadata": {},
   "source": [
    "### Data visualization"
   ]
  },
  {
   "cell_type": "code",
   "execution_count": 244,
   "metadata": {},
   "outputs": [
    {
     "data": {
      "text/plain": [
       "<matplotlib.legend.Legend at 0x7fd2116c1210>"
      ]
     },
     "execution_count": 244,
     "metadata": {},
     "output_type": "execute_result"
    },
    {
     "data": {
      "image/png": "[encoded data removed]",
      "text/plain": [
       "<Figure size 1008x864 with 1 Axes>"
      ]
     },
     "metadata": {
      "needs_background": "light"
     },
     "output_type": "display_data"
    }
   ],
   "source": [
    "plt = pool_results_df.plot(y=[\"senior_int\", \"subordinate_int\", \"equity_int\"], kind=\"bar\", figsize=(14, 12))\n",
    "plt.legend([\"Senior tranche interest rate\", \"Subordinate tranche interest rate\", \"Equity tranche interest rate\"])\n"
   ]
  }
 ],
 "metadata": {
  "kernelspec": {
   "display_name": "Python 3",
   "language": "python",
   "name": "python3"
  },
  "language_info": {
   "codemirror_mode": {
    "name": "ipython",
    "version": 3
   },
   "file_extension": ".py",
   "mimetype": "text/x-python",
   "name": "python",
   "nbconvert_exporter": "python",
   "pygments_lexer": "ipython3",
   "version": "3.8.5"
  }
 },
 "nbformat": 4,
 "nbformat_minor": 4
}
